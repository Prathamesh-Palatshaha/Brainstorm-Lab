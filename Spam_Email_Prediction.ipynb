{
 "cells": [
  {
   "cell_type": "code",
   "execution_count": 1,
   "id": "81574ad7-272d-45f7-a802-93602ecea630",
   "metadata": {
    "tags": []
   },
   "outputs": [],
   "source": [
    "import pandas as pd\n",
    "import numpy as np"
   ]
  },
  {
   "cell_type": "code",
   "execution_count": 2,
   "id": "27e93e17-d804-49ad-97b9-23c52e519f50",
   "metadata": {
    "tags": []
   },
   "outputs": [
    {
     "data": {
      "text/html": [
       "<div>\n",
       "<style scoped>\n",
       "    .dataframe tbody tr th:only-of-type {\n",
       "        vertical-align: middle;\n",
       "    }\n",
       "\n",
       "    .dataframe tbody tr th {\n",
       "        vertical-align: top;\n",
       "    }\n",
       "\n",
       "    .dataframe thead th {\n",
       "        text-align: right;\n",
       "    }\n",
       "</style>\n",
       "<table border=\"1\" class=\"dataframe\">\n",
       "  <thead>\n",
       "    <tr style=\"text-align: right;\">\n",
       "      <th></th>\n",
       "      <th>email</th>\n",
       "      <th>label</th>\n",
       "      <th>Subject</th>\n",
       "      <th>content</th>\n",
       "    </tr>\n",
       "  </thead>\n",
       "  <tbody>\n",
       "    <tr>\n",
       "      <th>0</th>\n",
       "      <td>b'From exmh-workers-admin@redhat.com  Thu Aug ...</td>\n",
       "      <td>0.0</td>\n",
       "      <td>new sequenc window</td>\n",
       "      <td>date wed number aug number number number chri ...</td>\n",
       "    </tr>\n",
       "    <tr>\n",
       "      <th>1</th>\n",
       "      <td>b'Return-Path: &lt;Online#3.19578.34-UgGTgZFN19NA...</td>\n",
       "      <td>0.0</td>\n",
       "      <td>cnet newscom cabl compani crack wifi</td>\n",
       "      <td>htmlhead titlec compani crack nametopa logo ad...</td>\n",
       "    </tr>\n",
       "    <tr>\n",
       "      <th>2</th>\n",
       "      <td>b'Return-Path: &lt;Online#3.19584.83-p1SYlJ1blFvQ...</td>\n",
       "      <td>0.0</td>\n",
       "      <td>save extra number ipaq number pda cnet shopper</td>\n",
       "      <td>htmlhead newslett hreftopa header tabl widthnu...</td>\n",
       "    </tr>\n",
       "    <tr>\n",
       "      <th>3</th>\n",
       "      <td>b'From Steve_Burt@cursor-system.com  Thu Aug 2...</td>\n",
       "      <td>0.0</td>\n",
       "      <td>zzzzteana alexand</td>\n",
       "      <td>martin greek sculptor behind plan judg limesto...</td>\n",
       "    </tr>\n",
       "    <tr>\n",
       "      <th>4</th>\n",
       "      <td>b'Return-Path: &lt;Online#3.19586.b5-9w0blztbvHPd...</td>\n",
       "      <td>0.0</td>\n",
       "      <td>week deck texedit plu boom</td>\n",
       "      <td>cnet download dispatchmac editionjuli number n...</td>\n",
       "    </tr>\n",
       "  </tbody>\n",
       "</table>\n",
       "</div>"
      ],
      "text/plain": [
       "                                               email  label  \\\n",
       "0  b'From exmh-workers-admin@redhat.com  Thu Aug ...    0.0   \n",
       "1  b'Return-Path: <Online#3.19578.34-UgGTgZFN19NA...    0.0   \n",
       "2  b'Return-Path: <Online#3.19584.83-p1SYlJ1blFvQ...    0.0   \n",
       "3  b'From Steve_Burt@cursor-system.com  Thu Aug 2...    0.0   \n",
       "4  b'Return-Path: <Online#3.19586.b5-9w0blztbvHPd...    0.0   \n",
       "\n",
       "                                          Subject  \\\n",
       "0                              new sequenc window   \n",
       "1            cnet newscom cabl compani crack wifi   \n",
       "2  save extra number ipaq number pda cnet shopper   \n",
       "3                               zzzzteana alexand   \n",
       "4                      week deck texedit plu boom   \n",
       "\n",
       "                                             content  \n",
       "0  date wed number aug number number number chri ...  \n",
       "1  htmlhead titlec compani crack nametopa logo ad...  \n",
       "2  htmlhead newslett hreftopa header tabl widthnu...  \n",
       "3  martin greek sculptor behind plan judg limesto...  \n",
       "4  cnet download dispatchmac editionjuli number n...  "
      ]
     },
     "execution_count": 2,
     "metadata": {},
     "output_type": "execute_result"
    }
   ],
   "source": [
    "df = pd.read_csv('./Spam mail/Spam_Ham_data.csv')\n",
    "df.head()"
   ]
  },
  {
   "cell_type": "markdown",
   "id": "8ee448ce-4042-45d3-8a06-284d1de4872a",
   "metadata": {},
   "source": [
    "##### Label: 0 means ham, 1 means spam."
   ]
  },
  {
   "cell_type": "code",
   "execution_count": 3,
   "id": "fa6d1002-11a5-42cc-b4f9-b1d3e8eeb39b",
   "metadata": {
    "tags": []
   },
   "outputs": [
    {
     "data": {
      "text/plain": [
       "(3063, 4)"
      ]
     },
     "execution_count": 3,
     "metadata": {},
     "output_type": "execute_result"
    }
   ],
   "source": [
    "df.shape"
   ]
  },
  {
   "cell_type": "code",
   "execution_count": 4,
   "id": "1702e068-a489-4184-a281-23e38076ab58",
   "metadata": {},
   "outputs": [
    {
     "data": {
      "text/html": [
       "<div>\n",
       "<style scoped>\n",
       "    .dataframe tbody tr th:only-of-type {\n",
       "        vertical-align: middle;\n",
       "    }\n",
       "\n",
       "    .dataframe tbody tr th {\n",
       "        vertical-align: top;\n",
       "    }\n",
       "\n",
       "    .dataframe thead th {\n",
       "        text-align: right;\n",
       "    }\n",
       "</style>\n",
       "<table border=\"1\" class=\"dataframe\">\n",
       "  <thead>\n",
       "    <tr style=\"text-align: right;\">\n",
       "      <th></th>\n",
       "      <th>label</th>\n",
       "      <th>Subject</th>\n",
       "      <th>content</th>\n",
       "    </tr>\n",
       "  </thead>\n",
       "  <tbody>\n",
       "    <tr>\n",
       "      <th>0</th>\n",
       "      <td>0.0</td>\n",
       "      <td>new sequenc window</td>\n",
       "      <td>date wed number aug number number number chri ...</td>\n",
       "    </tr>\n",
       "    <tr>\n",
       "      <th>1</th>\n",
       "      <td>0.0</td>\n",
       "      <td>cnet newscom cabl compani crack wifi</td>\n",
       "      <td>htmlhead titlec compani crack nametopa logo ad...</td>\n",
       "    </tr>\n",
       "    <tr>\n",
       "      <th>2</th>\n",
       "      <td>0.0</td>\n",
       "      <td>save extra number ipaq number pda cnet shopper</td>\n",
       "      <td>htmlhead newslett hreftopa header tabl widthnu...</td>\n",
       "    </tr>\n",
       "    <tr>\n",
       "      <th>3</th>\n",
       "      <td>0.0</td>\n",
       "      <td>zzzzteana alexand</td>\n",
       "      <td>martin greek sculptor behind plan judg limesto...</td>\n",
       "    </tr>\n",
       "    <tr>\n",
       "      <th>4</th>\n",
       "      <td>0.0</td>\n",
       "      <td>week deck texedit plu boom</td>\n",
       "      <td>cnet download dispatchmac editionjuli number n...</td>\n",
       "    </tr>\n",
       "  </tbody>\n",
       "</table>\n",
       "</div>"
      ],
      "text/plain": [
       "   label                                         Subject  \\\n",
       "0    0.0                              new sequenc window   \n",
       "1    0.0            cnet newscom cabl compani crack wifi   \n",
       "2    0.0  save extra number ipaq number pda cnet shopper   \n",
       "3    0.0                               zzzzteana alexand   \n",
       "4    0.0                      week deck texedit plu boom   \n",
       "\n",
       "                                             content  \n",
       "0  date wed number aug number number number chri ...  \n",
       "1  htmlhead titlec compani crack nametopa logo ad...  \n",
       "2  htmlhead newslett hreftopa header tabl widthnu...  \n",
       "3  martin greek sculptor behind plan judg limesto...  \n",
       "4  cnet download dispatchmac editionjuli number n...  "
      ]
     },
     "execution_count": 4,
     "metadata": {},
     "output_type": "execute_result"
    }
   ],
   "source": [
    "df.drop(columns=['email'],inplace=True, axis=1)\n",
    "df.head()"
   ]
  },
  {
   "cell_type": "markdown",
   "id": "257471b1-cbea-4267-8966-18045d5b9649",
   "metadata": {},
   "source": [
    "#### Pre-Processing"
   ]
  },
  {
   "cell_type": "code",
   "execution_count": 5,
   "id": "ec59b81a-93a0-46af-8fcc-b9cd5a7efe70",
   "metadata": {
    "tags": []
   },
   "outputs": [
    {
     "data": {
      "text/html": [
       "<div>\n",
       "<style scoped>\n",
       "    .dataframe tbody tr th:only-of-type {\n",
       "        vertical-align: middle;\n",
       "    }\n",
       "\n",
       "    .dataframe tbody tr th {\n",
       "        vertical-align: top;\n",
       "    }\n",
       "\n",
       "    .dataframe thead th {\n",
       "        text-align: right;\n",
       "    }\n",
       "</style>\n",
       "<table border=\"1\" class=\"dataframe\">\n",
       "  <thead>\n",
       "    <tr style=\"text-align: right;\">\n",
       "      <th></th>\n",
       "      <th>label</th>\n",
       "      <th>Subject</th>\n",
       "      <th>content</th>\n",
       "      <th>main</th>\n",
       "    </tr>\n",
       "  </thead>\n",
       "  <tbody>\n",
       "    <tr>\n",
       "      <th>0</th>\n",
       "      <td>0.0</td>\n",
       "      <td>new sequenc window</td>\n",
       "      <td>date wed number aug number number number chri ...</td>\n",
       "      <td>new sequenc window date wed number aug number ...</td>\n",
       "    </tr>\n",
       "    <tr>\n",
       "      <th>1</th>\n",
       "      <td>0.0</td>\n",
       "      <td>cnet newscom cabl compani crack wifi</td>\n",
       "      <td>htmlhead titlec compani crack nametopa logo ad...</td>\n",
       "      <td>cnet newscom cabl compani crack wifi htmlhead ...</td>\n",
       "    </tr>\n",
       "    <tr>\n",
       "      <th>2</th>\n",
       "      <td>0.0</td>\n",
       "      <td>save extra number ipaq number pda cnet shopper</td>\n",
       "      <td>htmlhead newslett hreftopa header tabl widthnu...</td>\n",
       "      <td>save extra number ipaq number pda cnet shopper...</td>\n",
       "    </tr>\n",
       "    <tr>\n",
       "      <th>3</th>\n",
       "      <td>0.0</td>\n",
       "      <td>zzzzteana alexand</td>\n",
       "      <td>martin greek sculptor behind plan judg limesto...</td>\n",
       "      <td>zzzzteana alexand martin greek sculptor behind...</td>\n",
       "    </tr>\n",
       "    <tr>\n",
       "      <th>4</th>\n",
       "      <td>0.0</td>\n",
       "      <td>week deck texedit plu boom</td>\n",
       "      <td>cnet download dispatchmac editionjuli number n...</td>\n",
       "      <td>week deck texedit plu boom cnet download dispa...</td>\n",
       "    </tr>\n",
       "  </tbody>\n",
       "</table>\n",
       "</div>"
      ],
      "text/plain": [
       "   label                                         Subject  \\\n",
       "0    0.0                              new sequenc window   \n",
       "1    0.0            cnet newscom cabl compani crack wifi   \n",
       "2    0.0  save extra number ipaq number pda cnet shopper   \n",
       "3    0.0                               zzzzteana alexand   \n",
       "4    0.0                      week deck texedit plu boom   \n",
       "\n",
       "                                             content  \\\n",
       "0  date wed number aug number number number chri ...   \n",
       "1  htmlhead titlec compani crack nametopa logo ad...   \n",
       "2  htmlhead newslett hreftopa header tabl widthnu...   \n",
       "3  martin greek sculptor behind plan judg limesto...   \n",
       "4  cnet download dispatchmac editionjuli number n...   \n",
       "\n",
       "                                                main  \n",
       "0  new sequenc window date wed number aug number ...  \n",
       "1  cnet newscom cabl compani crack wifi htmlhead ...  \n",
       "2  save extra number ipaq number pda cnet shopper...  \n",
       "3  zzzzteana alexand martin greek sculptor behind...  \n",
       "4  week deck texedit plu boom cnet download dispa...  "
      ]
     },
     "execution_count": 5,
     "metadata": {},
     "output_type": "execute_result"
    }
   ],
   "source": [
    "df['main'] = df.Subject +\" \"+df.content\n",
    "df.head()"
   ]
  },
  {
   "cell_type": "code",
   "execution_count": 6,
   "id": "60ba62da-2904-451c-b7c5-a6310f870d52",
   "metadata": {
    "tags": []
   },
   "outputs": [
    {
     "data": {
      "text/html": [
       "<div>\n",
       "<style scoped>\n",
       "    .dataframe tbody tr th:only-of-type {\n",
       "        vertical-align: middle;\n",
       "    }\n",
       "\n",
       "    .dataframe tbody tr th {\n",
       "        vertical-align: top;\n",
       "    }\n",
       "\n",
       "    .dataframe thead th {\n",
       "        text-align: right;\n",
       "    }\n",
       "</style>\n",
       "<table border=\"1\" class=\"dataframe\">\n",
       "  <thead>\n",
       "    <tr style=\"text-align: right;\">\n",
       "      <th></th>\n",
       "      <th>label</th>\n",
       "      <th>main</th>\n",
       "    </tr>\n",
       "  </thead>\n",
       "  <tbody>\n",
       "    <tr>\n",
       "      <th>0</th>\n",
       "      <td>0.0</td>\n",
       "      <td>new sequenc window date wed number aug number ...</td>\n",
       "    </tr>\n",
       "    <tr>\n",
       "      <th>1</th>\n",
       "      <td>0.0</td>\n",
       "      <td>cnet newscom cabl compani crack wifi htmlhead ...</td>\n",
       "    </tr>\n",
       "  </tbody>\n",
       "</table>\n",
       "</div>"
      ],
      "text/plain": [
       "   label                                               main\n",
       "0    0.0  new sequenc window date wed number aug number ...\n",
       "1    0.0  cnet newscom cabl compani crack wifi htmlhead ..."
      ]
     },
     "execution_count": 6,
     "metadata": {},
     "output_type": "execute_result"
    }
   ],
   "source": [
    "df.drop(columns=['Subject','content'],axis=1,inplace=True)\n",
    "df.head(2)"
   ]
  },
  {
   "cell_type": "code",
   "execution_count": 7,
   "id": "9838749a-1563-46b7-8d41-ca4527fbff93",
   "metadata": {
    "tags": []
   },
   "outputs": [],
   "source": [
    "df.main = df.main.str.lower()"
   ]
  },
  {
   "cell_type": "code",
   "execution_count": 8,
   "id": "50945542-0392-4eb4-b7e1-ad3cdcc7a23f",
   "metadata": {
    "tags": []
   },
   "outputs": [],
   "source": [
    "df.main.fillna(\" \", inplace=True)"
   ]
  },
  {
   "cell_type": "code",
   "execution_count": 9,
   "id": "1b97c625-1310-4775-a09c-2dc64257abf5",
   "metadata": {
    "tags": []
   },
   "outputs": [
    {
     "data": {
      "text/plain": [
       "0"
      ]
     },
     "execution_count": 9,
     "metadata": {},
     "output_type": "execute_result"
    }
   ],
   "source": [
    "df.main.isnull().sum()"
   ]
  },
  {
   "cell_type": "code",
   "execution_count": 10,
   "id": "84003069-ac0d-484b-88aa-4138ac9613d7",
   "metadata": {
    "tags": []
   },
   "outputs": [
    {
     "data": {
      "text/html": [
       "<div>\n",
       "<style scoped>\n",
       "    .dataframe tbody tr th:only-of-type {\n",
       "        vertical-align: middle;\n",
       "    }\n",
       "\n",
       "    .dataframe tbody tr th {\n",
       "        vertical-align: top;\n",
       "    }\n",
       "\n",
       "    .dataframe thead th {\n",
       "        text-align: right;\n",
       "    }\n",
       "</style>\n",
       "<table border=\"1\" class=\"dataframe\">\n",
       "  <thead>\n",
       "    <tr style=\"text-align: right;\">\n",
       "      <th></th>\n",
       "      <th>label</th>\n",
       "      <th>main</th>\n",
       "      <th>clean_text</th>\n",
       "    </tr>\n",
       "  </thead>\n",
       "  <tbody>\n",
       "    <tr>\n",
       "      <th>0</th>\n",
       "      <td>0.0</td>\n",
       "      <td>new sequenc window date wed number aug number ...</td>\n",
       "      <td>new sequenc window date wed number aug number ...</td>\n",
       "    </tr>\n",
       "    <tr>\n",
       "      <th>1</th>\n",
       "      <td>0.0</td>\n",
       "      <td>cnet newscom cabl compani crack wifi htmlhead ...</td>\n",
       "      <td>cnet newscom cabl compani crack wifi htmlhead ...</td>\n",
       "    </tr>\n",
       "    <tr>\n",
       "      <th>2</th>\n",
       "      <td>0.0</td>\n",
       "      <td>save extra number ipaq number pda cnet shopper...</td>\n",
       "      <td>save extra number ipaq number pda cnet shopper...</td>\n",
       "    </tr>\n",
       "    <tr>\n",
       "      <th>3</th>\n",
       "      <td>0.0</td>\n",
       "      <td>zzzzteana alexand martin greek sculptor behind...</td>\n",
       "      <td>zzzzteana alexand martin greek sculptor behind...</td>\n",
       "    </tr>\n",
       "    <tr>\n",
       "      <th>4</th>\n",
       "      <td>0.0</td>\n",
       "      <td>week deck texedit plu boom cnet download dispa...</td>\n",
       "      <td>week deck texedit plu boom cnet download dispa...</td>\n",
       "    </tr>\n",
       "  </tbody>\n",
       "</table>\n",
       "</div>"
      ],
      "text/plain": [
       "   label                                               main  \\\n",
       "0    0.0  new sequenc window date wed number aug number ...   \n",
       "1    0.0  cnet newscom cabl compani crack wifi htmlhead ...   \n",
       "2    0.0  save extra number ipaq number pda cnet shopper...   \n",
       "3    0.0  zzzzteana alexand martin greek sculptor behind...   \n",
       "4    0.0  week deck texedit plu boom cnet download dispa...   \n",
       "\n",
       "                                          clean_text  \n",
       "0  new sequenc window date wed number aug number ...  \n",
       "1  cnet newscom cabl compani crack wifi htmlhead ...  \n",
       "2  save extra number ipaq number pda cnet shopper...  \n",
       "3  zzzzteana alexand martin greek sculptor behind...  \n",
       "4  week deck texedit plu boom cnet download dispa...  "
      ]
     },
     "execution_count": 10,
     "metadata": {},
     "output_type": "execute_result"
    }
   ],
   "source": [
    "# Remove Punctuations\n",
    "import string\n",
    "def remove_punctuations(text):\n",
    "    punctuations = string.punctuation\n",
    "    return text.translate(str.maketrans('', '', punctuations))\n",
    "df['clean_text'] = df['main'].apply(lambda x: remove_punctuations(x))\n",
    "df.head()"
   ]
  },
  {
   "cell_type": "code",
   "execution_count": 11,
   "id": "fbf9983e-dbba-4cf4-a208-7b5710e80985",
   "metadata": {
    "tags": []
   },
   "outputs": [
    {
     "data": {
      "text/html": [
       "<div>\n",
       "<style scoped>\n",
       "    .dataframe tbody tr th:only-of-type {\n",
       "        vertical-align: middle;\n",
       "    }\n",
       "\n",
       "    .dataframe tbody tr th {\n",
       "        vertical-align: top;\n",
       "    }\n",
       "\n",
       "    .dataframe thead th {\n",
       "        text-align: right;\n",
       "    }\n",
       "</style>\n",
       "<table border=\"1\" class=\"dataframe\">\n",
       "  <thead>\n",
       "    <tr style=\"text-align: right;\">\n",
       "      <th></th>\n",
       "      <th>label</th>\n",
       "      <th>main</th>\n",
       "      <th>clean_text</th>\n",
       "    </tr>\n",
       "  </thead>\n",
       "  <tbody>\n",
       "    <tr>\n",
       "      <th>0</th>\n",
       "      <td>0.0</td>\n",
       "      <td>new sequenc window date wed number aug number ...</td>\n",
       "      <td>new sequenc window date wed number aug number ...</td>\n",
       "    </tr>\n",
       "    <tr>\n",
       "      <th>1</th>\n",
       "      <td>0.0</td>\n",
       "      <td>cnet newscom cabl compani crack wifi htmlhead ...</td>\n",
       "      <td>cnet newscom cabl compani crack wifi htmlhead ...</td>\n",
       "    </tr>\n",
       "    <tr>\n",
       "      <th>2</th>\n",
       "      <td>0.0</td>\n",
       "      <td>save extra number ipaq number pda cnet shopper...</td>\n",
       "      <td>save extra number ipaq number pda cnet shopper...</td>\n",
       "    </tr>\n",
       "    <tr>\n",
       "      <th>3</th>\n",
       "      <td>0.0</td>\n",
       "      <td>zzzzteana alexand martin greek sculptor behind...</td>\n",
       "      <td>zzzzteana alexand martin greek sculptor behind...</td>\n",
       "    </tr>\n",
       "    <tr>\n",
       "      <th>4</th>\n",
       "      <td>0.0</td>\n",
       "      <td>week deck texedit plu boom cnet download dispa...</td>\n",
       "      <td>week deck texedit plu boom cnet download dispa...</td>\n",
       "    </tr>\n",
       "  </tbody>\n",
       "</table>\n",
       "</div>"
      ],
      "text/plain": [
       "   label                                               main  \\\n",
       "0    0.0  new sequenc window date wed number aug number ...   \n",
       "1    0.0  cnet newscom cabl compani crack wifi htmlhead ...   \n",
       "2    0.0  save extra number ipaq number pda cnet shopper...   \n",
       "3    0.0  zzzzteana alexand martin greek sculptor behind...   \n",
       "4    0.0  week deck texedit plu boom cnet download dispa...   \n",
       "\n",
       "                                          clean_text  \n",
       "0  new sequenc window date wed number aug number ...  \n",
       "1  cnet newscom cabl compani crack wifi htmlhead ...  \n",
       "2  save extra number ipaq number pda cnet shopper...  \n",
       "3  zzzzteana alexand martin greek sculptor behind...  \n",
       "4  week deck texedit plu boom cnet download dispa...  "
      ]
     },
     "execution_count": 11,
     "metadata": {},
     "output_type": "execute_result"
    }
   ],
   "source": [
    "# Stop word removal\n",
    "from nltk.corpus import stopwords\n",
    "\", \".join(stopwords.words('english'))\n",
    "STOPWORDS = set(stopwords.words('english'))\n",
    "def remove_stopwords(text):\n",
    "    return \" \".join([word for word in text.split() if word not in STOPWORDS])\n",
    "df['clean_text'] = df['clean_text'].apply(lambda x: remove_stopwords(x))\n",
    "df.head()"
   ]
  },
  {
   "cell_type": "code",
   "execution_count": 12,
   "id": "729d4bd3-7d6b-4ff5-af6c-f14c57d788f5",
   "metadata": {
    "tags": []
   },
   "outputs": [
    {
     "data": {
      "text/plain": [
       "[('number', 21007),\n",
       " ('widthnumb', 11100),\n",
       " ('td', 4673),\n",
       " ('tr', 3387),\n",
       " ('use', 2826),\n",
       " ('helvetica', 2462),\n",
       " ('tabl', 2112),\n",
       " ('email', 2103),\n",
       " ('get', 2057),\n",
       " ('faceari', 1926)]"
      ]
     },
     "execution_count": 12,
     "metadata": {},
     "output_type": "execute_result"
    }
   ],
   "source": [
    "# Frequent Words \n",
    "from collections import Counter\n",
    "word_count = Counter()\n",
    "for text in df['clean_text']:\n",
    "    for word in text.split():\n",
    "        word_count[word] += 1\n",
    "        \n",
    "word_count.most_common(10)"
   ]
  },
  {
   "cell_type": "code",
   "execution_count": 13,
   "id": "6b19d1e1-a190-46eb-b5ec-c79fa35ede10",
   "metadata": {
    "tags": []
   },
   "outputs": [],
   "source": [
    "#  Stemming\n",
    "# from nltk.stem.porter import PorterStemmer\n",
    "# ps = PorterStemmer()\n",
    "# def stem_words(text):\n",
    "#     return \" \".join([ps.stem(word) for word in text.split()])\n",
    "# df['stemmed_text'] = df['result'].apply(lambda x: stem_words(x))\n",
    "# df.head()"
   ]
  },
  {
   "cell_type": "code",
   "execution_count": 14,
   "id": "0a396974-578b-4f29-b86d-d389dde2a1f5",
   "metadata": {
    "tags": []
   },
   "outputs": [
    {
     "data": {
      "text/html": [
       "<div>\n",
       "<style scoped>\n",
       "    .dataframe tbody tr th:only-of-type {\n",
       "        vertical-align: middle;\n",
       "    }\n",
       "\n",
       "    .dataframe tbody tr th {\n",
       "        vertical-align: top;\n",
       "    }\n",
       "\n",
       "    .dataframe thead th {\n",
       "        text-align: right;\n",
       "    }\n",
       "</style>\n",
       "<table border=\"1\" class=\"dataframe\">\n",
       "  <thead>\n",
       "    <tr style=\"text-align: right;\">\n",
       "      <th></th>\n",
       "      <th>label</th>\n",
       "      <th>main</th>\n",
       "      <th>clean_text</th>\n",
       "      <th>lemmatized_text</th>\n",
       "    </tr>\n",
       "  </thead>\n",
       "  <tbody>\n",
       "    <tr>\n",
       "      <th>0</th>\n",
       "      <td>0.0</td>\n",
       "      <td>new sequenc window date wed number aug number ...</td>\n",
       "      <td>new sequenc window date wed number aug number ...</td>\n",
       "      <td>new sequenc window date wed number aug number ...</td>\n",
       "    </tr>\n",
       "    <tr>\n",
       "      <th>1</th>\n",
       "      <td>0.0</td>\n",
       "      <td>cnet newscom cabl compani crack wifi htmlhead ...</td>\n",
       "      <td>cnet newscom cabl compani crack wifi htmlhead ...</td>\n",
       "      <td>cnet newscom cabl compani crack wifi htmlhead ...</td>\n",
       "    </tr>\n",
       "    <tr>\n",
       "      <th>2</th>\n",
       "      <td>0.0</td>\n",
       "      <td>save extra number ipaq number pda cnet shopper...</td>\n",
       "      <td>save extra number ipaq number pda cnet shopper...</td>\n",
       "      <td>save extra number ipaq number pda cnet shopper...</td>\n",
       "    </tr>\n",
       "    <tr>\n",
       "      <th>3</th>\n",
       "      <td>0.0</td>\n",
       "      <td>zzzzteana alexand martin greek sculptor behind...</td>\n",
       "      <td>zzzzteana alexand martin greek sculptor behind...</td>\n",
       "      <td>zzzzteana alexand martin greek sculptor behind...</td>\n",
       "    </tr>\n",
       "    <tr>\n",
       "      <th>4</th>\n",
       "      <td>0.0</td>\n",
       "      <td>week deck texedit plu boom cnet download dispa...</td>\n",
       "      <td>week deck texedit plu boom cnet download dispa...</td>\n",
       "      <td>week deck texedit plu boom cnet download dispa...</td>\n",
       "    </tr>\n",
       "  </tbody>\n",
       "</table>\n",
       "</div>"
      ],
      "text/plain": [
       "   label                                               main  \\\n",
       "0    0.0  new sequenc window date wed number aug number ...   \n",
       "1    0.0  cnet newscom cabl compani crack wifi htmlhead ...   \n",
       "2    0.0  save extra number ipaq number pda cnet shopper...   \n",
       "3    0.0  zzzzteana alexand martin greek sculptor behind...   \n",
       "4    0.0  week deck texedit plu boom cnet download dispa...   \n",
       "\n",
       "                                          clean_text  \\\n",
       "0  new sequenc window date wed number aug number ...   \n",
       "1  cnet newscom cabl compani crack wifi htmlhead ...   \n",
       "2  save extra number ipaq number pda cnet shopper...   \n",
       "3  zzzzteana alexand martin greek sculptor behind...   \n",
       "4  week deck texedit plu boom cnet download dispa...   \n",
       "\n",
       "                                     lemmatized_text  \n",
       "0  new sequenc window date wed number aug number ...  \n",
       "1  cnet newscom cabl compani crack wifi htmlhead ...  \n",
       "2  save extra number ipaq number pda cnet shopper...  \n",
       "3  zzzzteana alexand martin greek sculptor behind...  \n",
       "4  week deck texedit plu boom cnet download dispa...  "
      ]
     },
     "execution_count": 14,
     "metadata": {},
     "output_type": "execute_result"
    }
   ],
   "source": [
    "# Lemmatization & POS Tagging\n",
    "\n",
    "from nltk import pos_tag\n",
    "from nltk.corpus import wordnet\n",
    "from nltk.stem import WordNetLemmatizer\n",
    "\n",
    "lemmatizer = WordNetLemmatizer()\n",
    "wordnet_map = {\"N\":wordnet.NOUN, \"V\": wordnet.VERB, \"J\": wordnet.ADJ, \"R\": wordnet.ADV}\n",
    "\n",
    "def lemmatize_words(text):\n",
    "    # find pos tags\n",
    "    pos_text = pos_tag(text.split())\n",
    "    return \" \".join([lemmatizer.lemmatize(word, wordnet_map.get(pos[0], wordnet.NOUN)) for word, pos in pos_text])\n",
    "\n",
    "df['lemmatized_text'] = df['clean_text'].apply(lambda x: lemmatize_words(x))\n",
    "df.head()"
   ]
  },
  {
   "cell_type": "code",
   "execution_count": 15,
   "id": "814ec71c-a799-482b-98c9-a94f466c57ca",
   "metadata": {
    "tags": []
   },
   "outputs": [
    {
     "data": {
      "text/html": [
       "<div>\n",
       "<style scoped>\n",
       "    .dataframe tbody tr th:only-of-type {\n",
       "        vertical-align: middle;\n",
       "    }\n",
       "\n",
       "    .dataframe tbody tr th {\n",
       "        vertical-align: top;\n",
       "    }\n",
       "\n",
       "    .dataframe thead th {\n",
       "        text-align: right;\n",
       "    }\n",
       "</style>\n",
       "<table border=\"1\" class=\"dataframe\">\n",
       "  <thead>\n",
       "    <tr style=\"text-align: right;\">\n",
       "      <th></th>\n",
       "      <th>label</th>\n",
       "      <th>main</th>\n",
       "      <th>clean_text</th>\n",
       "      <th>lemmatized_text</th>\n",
       "    </tr>\n",
       "  </thead>\n",
       "  <tbody>\n",
       "    <tr>\n",
       "      <th>124</th>\n",
       "      <td>0.0</td>\n",
       "      <td>person laser pick student soho user zdnet shop...</td>\n",
       "      <td>person laser pick student soho user zdnet shop...</td>\n",
       "      <td>person laser pick student soho user zdnet shop...</td>\n",
       "    </tr>\n",
       "    <tr>\n",
       "      <th>2080</th>\n",
       "      <td>0.0</td>\n",
       "      <td>light read url phil ringnalda put numberso ans...</td>\n",
       "      <td>light read url phil ringnalda put numberso ans...</td>\n",
       "      <td>light read url phil ringnalda put numberso ans...</td>\n",
       "    </tr>\n",
       "    <tr>\n",
       "      <th>98</th>\n",
       "      <td>0.0</td>\n",
       "      <td></td>\n",
       "      <td></td>\n",
       "      <td></td>\n",
       "    </tr>\n",
       "    <tr>\n",
       "      <th>1007</th>\n",
       "      <td>0.0</td>\n",
       "      <td>liber defnit depend much spend vs much type bi...</td>\n",
       "      <td>liber defnit depend much spend vs much type bi...</td>\n",
       "      <td>liber defnit depend much spend v much type big...</td>\n",
       "    </tr>\n",
       "    <tr>\n",
       "      <th>2274</th>\n",
       "      <td>0.0</td>\n",
       "      <td>underwat highvoltag photographi url suppliedim...</td>\n",
       "      <td>underwat highvoltag photographi url suppliedim...</td>\n",
       "      <td>underwat highvoltag photographi url suppliedim...</td>\n",
       "    </tr>\n",
       "    <tr>\n",
       "      <th>341</th>\n",
       "      <td>0.0</td>\n",
       "      <td>eagl lieuten governor' race competit uniqu uns...</td>\n",
       "      <td>eagl lieuten governor race competit uniqu unsu...</td>\n",
       "      <td>eagl lieuten governor race competit uniqu unsu...</td>\n",
       "    </tr>\n",
       "    <tr>\n",
       "      <th>591</th>\n",
       "      <td>0.0</td>\n",
       "      <td>gecko adhes final suss via robot wisdom mayb u...</td>\n",
       "      <td>gecko adhes final suss via robot wisdom mayb u...</td>\n",
       "      <td>gecko adhes final sus via robot wisdom mayb uc...</td>\n",
       "    </tr>\n",
       "    <tr>\n",
       "      <th>2861</th>\n",
       "      <td>1.0</td>\n",
       "      <td>pleas help home compani survey win dvr pwe tha...</td>\n",
       "      <td>pleas help home compani survey win dvr pwe tha...</td>\n",
       "      <td>plea help home compani survey win dvr pwe than...</td>\n",
       "    </tr>\n",
       "    <tr>\n",
       "      <th>2836</th>\n",
       "      <td>1.0</td>\n",
       "      <td>fw make money fast legal seen tv number ultim ...</td>\n",
       "      <td>fw make money fast legal seen tv number ultim ...</td>\n",
       "      <td>fw make money fast legal see tv number ultim w...</td>\n",
       "    </tr>\n",
       "    <tr>\n",
       "      <th>338</th>\n",
       "      <td>0.0</td>\n",
       "      <td>problem aptget mon number oct number thoma van...</td>\n",
       "      <td>problem aptget mon number oct number thoma van...</td>\n",
       "      <td>problem aptget mon number oct number thoma van...</td>\n",
       "    </tr>\n",
       "  </tbody>\n",
       "</table>\n",
       "</div>"
      ],
      "text/plain": [
       "      label                                               main  \\\n",
       "124     0.0  person laser pick student soho user zdnet shop...   \n",
       "2080    0.0  light read url phil ringnalda put numberso ans...   \n",
       "98      0.0                                                      \n",
       "1007    0.0  liber defnit depend much spend vs much type bi...   \n",
       "2274    0.0  underwat highvoltag photographi url suppliedim...   \n",
       "341     0.0  eagl lieuten governor' race competit uniqu uns...   \n",
       "591     0.0  gecko adhes final suss via robot wisdom mayb u...   \n",
       "2861    1.0  pleas help home compani survey win dvr pwe tha...   \n",
       "2836    1.0  fw make money fast legal seen tv number ultim ...   \n",
       "338     0.0  problem aptget mon number oct number thoma van...   \n",
       "\n",
       "                                             clean_text  \\\n",
       "124   person laser pick student soho user zdnet shop...   \n",
       "2080  light read url phil ringnalda put numberso ans...   \n",
       "98                                                        \n",
       "1007  liber defnit depend much spend vs much type bi...   \n",
       "2274  underwat highvoltag photographi url suppliedim...   \n",
       "341   eagl lieuten governor race competit uniqu unsu...   \n",
       "591   gecko adhes final suss via robot wisdom mayb u...   \n",
       "2861  pleas help home compani survey win dvr pwe tha...   \n",
       "2836  fw make money fast legal seen tv number ultim ...   \n",
       "338   problem aptget mon number oct number thoma van...   \n",
       "\n",
       "                                        lemmatized_text  \n",
       "124   person laser pick student soho user zdnet shop...  \n",
       "2080  light read url phil ringnalda put numberso ans...  \n",
       "98                                                       \n",
       "1007  liber defnit depend much spend v much type big...  \n",
       "2274  underwat highvoltag photographi url suppliedim...  \n",
       "341   eagl lieuten governor race competit uniqu unsu...  \n",
       "591   gecko adhes final sus via robot wisdom mayb uc...  \n",
       "2861  plea help home compani survey win dvr pwe than...  \n",
       "2836  fw make money fast legal see tv number ultim w...  \n",
       "338   problem aptget mon number oct number thoma van...  "
      ]
     },
     "execution_count": 15,
     "metadata": {},
     "output_type": "execute_result"
    }
   ],
   "source": [
    "df.sample(frac=1).head(10)"
   ]
  },
  {
   "cell_type": "code",
   "execution_count": 16,
   "id": "40ca3f2b-49a4-44b0-9b43-1dbdc5a2282e",
   "metadata": {
    "tags": []
   },
   "outputs": [],
   "source": [
    "from sklearn.feature_extraction.text import TfidfVectorizer\n",
    "from sklearn.model_selection import train_test_split"
   ]
  },
  {
   "cell_type": "code",
   "execution_count": 17,
   "id": "6f1adfcf-0f6d-46f6-a7ec-5a214ac3a166",
   "metadata": {
    "tags": []
   },
   "outputs": [
    {
     "data": {
      "text/plain": [
       "0       new sequenc window date wed number aug number ...\n",
       "1       cnet newscom cabl compani crack wifi htmlhead ...\n",
       "2       save extra number ipaq number pda cnet shopper...\n",
       "3       zzzzteana alexand martin greek sculptor behind...\n",
       "4       week deck texedit plu boom cnet download dispa...\n",
       "                              ...                        \n",
       "3058    fwddirect market work number stumbl great way ...\n",
       "3059    see compani sale sky rocket number stumbl grea...\n",
       "3060    number hour watch emmerci joke frontpag number...\n",
       "3061    make fortun ebay number htmlbodi tr td p numbe...\n",
       "3062    faeri uncommon exot pleasur marvel sweet treat...\n",
       "Name: lemmatized_text, Length: 3063, dtype: object"
      ]
     },
     "execution_count": 17,
     "metadata": {},
     "output_type": "execute_result"
    }
   ],
   "source": [
    "X = df.lemmatized_text\n",
    "X"
   ]
  },
  {
   "cell_type": "code",
   "execution_count": 18,
   "id": "d41b57bc-cd83-48b0-a443-49919efa1cbf",
   "metadata": {
    "tags": []
   },
   "outputs": [
    {
     "data": {
      "text/plain": [
       "0       0.0\n",
       "1       0.0\n",
       "2       0.0\n",
       "3       0.0\n",
       "4       0.0\n",
       "       ... \n",
       "3058    1.0\n",
       "3059    1.0\n",
       "3060    1.0\n",
       "3061    1.0\n",
       "3062    1.0\n",
       "Name: label, Length: 3063, dtype: float64"
      ]
     },
     "execution_count": 18,
     "metadata": {},
     "output_type": "execute_result"
    }
   ],
   "source": [
    "y = df.label\n",
    "y"
   ]
  },
  {
   "cell_type": "code",
   "execution_count": 19,
   "id": "9ddc4a16-3179-486e-a84c-bfa5282e4674",
   "metadata": {
    "tags": []
   },
   "outputs": [],
   "source": [
    "X_train , X_test, y_train, y_test = train_test_split(X,y, test_size=0.2, random_state=2, stratify=y)"
   ]
  },
  {
   "cell_type": "code",
   "execution_count": 20,
   "id": "4df70baf-9569-4a03-9216-96a375e359ca",
   "metadata": {
    "tags": []
   },
   "outputs": [],
   "source": [
    "# transform text data to feature vectors\n",
    "featureX = TfidfVectorizer(min_df=1)\n",
    "X_train_feature = featureX.fit_transform(X_train)\n",
    "X_test_feature = featureX.transform(X_test)\n",
    "\n",
    "# lable values conversion\n",
    "\n",
    "y_train = y_train.astype('int')\n",
    "y_test = y_test.astype('int')"
   ]
  },
  {
   "cell_type": "code",
   "execution_count": 21,
   "id": "d223db0b-4031-47bd-9da4-1c2a499dd5c9",
   "metadata": {
    "tags": []
   },
   "outputs": [],
   "source": [
    "X = featureX.transform(X)"
   ]
  },
  {
   "cell_type": "code",
   "execution_count": 22,
   "id": "e49bf0db-e86f-4a74-8c38-3aaa022b3b26",
   "metadata": {
    "tags": []
   },
   "outputs": [
    {
     "name": "stdout",
     "output_type": "stream",
     "text": [
      "335     subject still time enter lifetime new season s...\n",
      "2735    low price smoke dear sir madamif feed rip brit...\n",
      "345     webdev thank info aj find weblog clickpath rep...\n",
      "2537    footbal player addict video footbal url suppli...\n",
      "662     io gasp adam l beberg write tue number sep num...\n",
      "                              ...                        \n",
      "802     storag bit u udhay shankar n udhay write u num...\n",
      "2307    brown budget plan disarray url admit growth ta...\n",
      "882     aa meet hot place meet woman big buck less obs...\n",
      "1604    satalk problem spam assassin mailscann work sm...\n",
      "1855    spambay deploy mail give nonspam train need se...\n",
      "Name: lemmatized_text, Length: 2450, dtype: object\n"
     ]
    }
   ],
   "source": [
    "print(X_train)"
   ]
  },
  {
   "cell_type": "code",
   "execution_count": 23,
   "id": "a4cd7121-3990-4c0d-8112-0dc7c3a0f2b2",
   "metadata": {
    "tags": []
   },
   "outputs": [
    {
     "name": "stdout",
     "output_type": "stream",
     "text": [
      "  (0, 35671)\t0.02834518541897588\n",
      "  (0, 20470)\t0.035773021765899374\n",
      "  (0, 22559)\t0.05384134006463584\n",
      "  (0, 5588)\t0.038730784010003884\n",
      "  (0, 12541)\t0.033411095198019096\n",
      "  (0, 24532)\t0.0516495959973709\n",
      "  (0, 20679)\t0.051750908986799446\n",
      "  (0, 7226)\t0.04405047282198867\n",
      "  (0, 19557)\t0.06317614824782632\n",
      "  (0, 337)\t0.04626279723376499\n",
      "  (0, 18980)\t0.05785645943584153\n",
      "  (0, 27587)\t0.0362948202142518\n",
      "  (0, 24058)\t0.12023892351063376\n",
      "  (0, 17765)\t0.03132417166383032\n",
      "  (0, 18360)\t0.028430881131455525\n",
      "  (0, 25985)\t0.07088788985662467\n",
      "  (0, 25998)\t0.042256200088864646\n",
      "  (0, 35324)\t0.09851508640111468\n",
      "  (0, 26176)\t0.05691892019113189\n",
      "  (0, 12265)\t0.025919010452250424\n",
      "  (0, 31209)\t0.0692457535594919\n",
      "  (0, 1727)\t0.04716320096844075\n",
      "  (0, 25569)\t0.04235521917725827\n",
      "  (0, 18368)\t0.07913521468378068\n",
      "  (0, 12201)\t0.04554639280067175\n",
      "  :\t:\n",
      "  (2449, 27487)\t0.05349765856486555\n",
      "  (2449, 27467)\t0.04461484569365248\n",
      "  (2449, 17983)\t0.059088248506488264\n",
      "  (2449, 13217)\t0.07613120979419996\n",
      "  (2449, 27673)\t0.06126269509425223\n",
      "  (2449, 6060)\t0.13856950111803587\n",
      "  (2449, 14215)\t0.1336055256684981\n",
      "  (2449, 26745)\t0.04888432393967753\n",
      "  (2449, 14569)\t0.061543272447892164\n",
      "  (2449, 15298)\t0.06419005094173491\n",
      "  (2449, 17589)\t0.03930711476519301\n",
      "  (2449, 31458)\t0.0458851075509002\n",
      "  (2449, 2600)\t0.06772558602298052\n",
      "  (2449, 27120)\t0.04241899209978022\n",
      "  (2449, 12624)\t0.048266806980868784\n",
      "  (2449, 33448)\t0.03375562978898906\n",
      "  (2449, 20470)\t0.04653795926715635\n",
      "  (2449, 12541)\t0.04346527384719534\n",
      "  (2449, 27587)\t0.047216779051909304\n",
      "  (2449, 18360)\t0.07397279417341816\n",
      "  (2449, 9470)\t0.11280397220318773\n",
      "  (2449, 23567)\t0.04673482501736616\n",
      "  (2449, 20766)\t0.2394880995104766\n",
      "  (2449, 29816)\t0.08647677891932501\n",
      "  (2449, 21270)\t0.04571405195819803\n"
     ]
    }
   ],
   "source": [
    "print(X_train_feature)"
   ]
  },
  {
   "cell_type": "code",
   "execution_count": 24,
   "id": "25a59f8b-b3ff-43f2-b773-7de263a326e0",
   "metadata": {
    "tags": []
   },
   "outputs": [],
   "source": [
    "# importing models\n",
    "from sklearn.linear_model import LogisticRegression\n",
    "from sklearn import svm\n",
    "from sklearn.naive_bayes import MultinomialNB , GaussianNB , BernoulliNB"
   ]
  },
  {
   "cell_type": "code",
   "execution_count": 25,
   "id": "ffe1fe7d-16da-4a09-8fa7-ff5792f21205",
   "metadata": {
    "tags": []
   },
   "outputs": [],
   "source": [
    "# list of models\n",
    "from sklearn.model_selection import cross_val_score\n",
    "models = [LogisticRegression(max_iter=1000), MultinomialNB(), BernoulliNB(),svm.SVC(kernel='linear')]"
   ]
  },
  {
   "cell_type": "code",
   "execution_count": 26,
   "id": "54a9193d-e75b-4066-b251-d728f049a219",
   "metadata": {
    "tags": []
   },
   "outputs": [],
   "source": [
    "def compare_models_cross_validation():\n",
    "\n",
    "  for model in models:\n",
    "\n",
    "    cv_score = cross_val_score(model, X, y, cv=5)\n",
    "    mean_accuracy = sum(cv_score)/len(cv_score)\n",
    "    mean_accuracy = mean_accuracy*100\n",
    "    mean_accuracy = round(mean_accuracy, 2)\n",
    "\n",
    "    print('Cross Validation accuracies for the',model,'=', cv_score)\n",
    "    print('Acccuracy score of the ',model,'=',mean_accuracy,'%')\n",
    "    print('---------------------------------------------------------------')"
   ]
  },
  {
   "cell_type": "code",
   "execution_count": 27,
   "id": "b417763e-05a8-4f22-9d12-ef39e3a3e1d0",
   "metadata": {
    "tags": []
   },
   "outputs": [
    {
     "name": "stdout",
     "output_type": "stream",
     "text": [
      "Cross Validation accuracies for the LogisticRegression(max_iter=1000) = [0.79771615 0.93800979 0.92169657 0.91503268 0.94607843]\n",
      "Acccuracy score of the  LogisticRegression(max_iter=1000) = 90.37 %\n",
      "---------------------------------------------------------------\n",
      "Cross Validation accuracies for the MultinomialNB() = [0.76835237 0.86786297 0.86786297 0.87254902 0.86764706]\n",
      "Acccuracy score of the  MultinomialNB() = 84.89 %\n",
      "---------------------------------------------------------------\n",
      "Cross Validation accuracies for the BernoulliNB() = [0.59869494 0.8319739  0.91680261 0.89705882 0.91339869]\n",
      "Acccuracy score of the  BernoulliNB() = 83.16 %\n",
      "---------------------------------------------------------------\n",
      "Cross Validation accuracies for the SVC(kernel='linear') = [0.77487765 0.97389886 0.97389886 0.95424837 0.97712418]\n",
      "Acccuracy score of the  SVC(kernel='linear') = 93.08 %\n",
      "---------------------------------------------------------------\n"
     ]
    }
   ],
   "source": [
    "compare_models_cross_validation()"
   ]
  },
  {
   "cell_type": "markdown",
   "id": "683af8bb-32a0-4c85-b5f6-168fc72d644b",
   "metadata": {},
   "source": [
    "### As we can see SVM has highest accuracy of 93.08%"
   ]
  },
  {
   "cell_type": "code",
   "execution_count": 28,
   "id": "31f90243-b0f3-4ae4-8dfe-5ea3f44634f8",
   "metadata": {
    "tags": []
   },
   "outputs": [
    {
     "data": {
      "text/html": [
       "<style>#sk-container-id-1 {color: black;background-color: white;}#sk-container-id-1 pre{padding: 0;}#sk-container-id-1 div.sk-toggleable {background-color: white;}#sk-container-id-1 label.sk-toggleable__label {cursor: pointer;display: block;width: 100%;margin-bottom: 0;padding: 0.3em;box-sizing: border-box;text-align: center;}#sk-container-id-1 label.sk-toggleable__label-arrow:before {content: \"▸\";float: left;margin-right: 0.25em;color: #696969;}#sk-container-id-1 label.sk-toggleable__label-arrow:hover:before {color: black;}#sk-container-id-1 div.sk-estimator:hover label.sk-toggleable__label-arrow:before {color: black;}#sk-container-id-1 div.sk-toggleable__content {max-height: 0;max-width: 0;overflow: hidden;text-align: left;background-color: #f0f8ff;}#sk-container-id-1 div.sk-toggleable__content pre {margin: 0.2em;color: black;border-radius: 0.25em;background-color: #f0f8ff;}#sk-container-id-1 input.sk-toggleable__control:checked~div.sk-toggleable__content {max-height: 200px;max-width: 100%;overflow: auto;}#sk-container-id-1 input.sk-toggleable__control:checked~label.sk-toggleable__label-arrow:before {content: \"▾\";}#sk-container-id-1 div.sk-estimator input.sk-toggleable__control:checked~label.sk-toggleable__label {background-color: #d4ebff;}#sk-container-id-1 div.sk-label input.sk-toggleable__control:checked~label.sk-toggleable__label {background-color: #d4ebff;}#sk-container-id-1 input.sk-hidden--visually {border: 0;clip: rect(1px 1px 1px 1px);clip: rect(1px, 1px, 1px, 1px);height: 1px;margin: -1px;overflow: hidden;padding: 0;position: absolute;width: 1px;}#sk-container-id-1 div.sk-estimator {font-family: monospace;background-color: #f0f8ff;border: 1px dotted black;border-radius: 0.25em;box-sizing: border-box;margin-bottom: 0.5em;}#sk-container-id-1 div.sk-estimator:hover {background-color: #d4ebff;}#sk-container-id-1 div.sk-parallel-item::after {content: \"\";width: 100%;border-bottom: 1px solid gray;flex-grow: 1;}#sk-container-id-1 div.sk-label:hover label.sk-toggleable__label {background-color: #d4ebff;}#sk-container-id-1 div.sk-serial::before {content: \"\";position: absolute;border-left: 1px solid gray;box-sizing: border-box;top: 0;bottom: 0;left: 50%;z-index: 0;}#sk-container-id-1 div.sk-serial {display: flex;flex-direction: column;align-items: center;background-color: white;padding-right: 0.2em;padding-left: 0.2em;position: relative;}#sk-container-id-1 div.sk-item {position: relative;z-index: 1;}#sk-container-id-1 div.sk-parallel {display: flex;align-items: stretch;justify-content: center;background-color: white;position: relative;}#sk-container-id-1 div.sk-item::before, #sk-container-id-1 div.sk-parallel-item::before {content: \"\";position: absolute;border-left: 1px solid gray;box-sizing: border-box;top: 0;bottom: 0;left: 50%;z-index: -1;}#sk-container-id-1 div.sk-parallel-item {display: flex;flex-direction: column;z-index: 1;position: relative;background-color: white;}#sk-container-id-1 div.sk-parallel-item:first-child::after {align-self: flex-end;width: 50%;}#sk-container-id-1 div.sk-parallel-item:last-child::after {align-self: flex-start;width: 50%;}#sk-container-id-1 div.sk-parallel-item:only-child::after {width: 0;}#sk-container-id-1 div.sk-dashed-wrapped {border: 1px dashed gray;margin: 0 0.4em 0.5em 0.4em;box-sizing: border-box;padding-bottom: 0.4em;background-color: white;}#sk-container-id-1 div.sk-label label {font-family: monospace;font-weight: bold;display: inline-block;line-height: 1.2em;}#sk-container-id-1 div.sk-label-container {text-align: center;}#sk-container-id-1 div.sk-container {/* jupyter's `normalize.less` sets `[hidden] { display: none; }` but bootstrap.min.css set `[hidden] { display: none !important; }` so we also need the `!important` here to be able to override the default hidden behavior on the sphinx rendered scikit-learn.org. See: https://github.com/scikit-learn/scikit-learn/issues/21755 */display: inline-block !important;position: relative;}#sk-container-id-1 div.sk-text-repr-fallback {display: none;}</style><div id=\"sk-container-id-1\" class=\"sk-top-container\"><div class=\"sk-text-repr-fallback\"><pre>SVC(kernel=&#x27;linear&#x27;)</pre><b>In a Jupyter environment, please rerun this cell to show the HTML representation or trust the notebook. <br />On GitHub, the HTML representation is unable to render, please try loading this page with nbviewer.org.</b></div><div class=\"sk-container\" hidden><div class=\"sk-item\"><div class=\"sk-estimator sk-toggleable\"><input class=\"sk-toggleable__control sk-hidden--visually\" id=\"sk-estimator-id-1\" type=\"checkbox\" checked><label for=\"sk-estimator-id-1\" class=\"sk-toggleable__label sk-toggleable__label-arrow\">SVC</label><div class=\"sk-toggleable__content\"><pre>SVC(kernel=&#x27;linear&#x27;)</pre></div></div></div></div></div>"
      ],
      "text/plain": [
       "SVC(kernel='linear')"
      ]
     },
     "execution_count": 28,
     "metadata": {},
     "output_type": "execute_result"
    }
   ],
   "source": [
    "# Training Model\n",
    "classfier = svm.SVC(kernel='linear')\n",
    "classfier.fit(X_train_feature,y_train)"
   ]
  },
  {
   "cell_type": "code",
   "execution_count": 29,
   "id": "a1a0a0f1-4e91-4f02-881c-1951c42fda55",
   "metadata": {
    "tags": []
   },
   "outputs": [
    {
     "name": "stdout",
     "output_type": "stream",
     "text": [
      "Accuracy score of the trainig data: 0.9926530612244898 \n",
      "Accuracy score of the testing data: 0.9820554649265906 \n"
     ]
    }
   ],
   "source": [
    "from sklearn.metrics import accuracy_score\n",
    "x_train_pred = classfier.predict(X_train_feature)\n",
    "training_data_acc_score = accuracy_score(x_train_pred, y_train)\n",
    "print(f\"Accuracy score of the trainig data: {training_data_acc_score} \")\n",
    "\n",
    "# Acc score for the test set\n",
    "x_test_pred = classfier.predict(X_test_feature)\n",
    "test_data_acc_score = accuracy_score(x_test_pred, y_test)\n",
    "print(f\"Accuracy score of the testing data: {test_data_acc_score} \")"
   ]
  },
  {
   "cell_type": "markdown",
   "id": "27dce0cc-2ee1-48b4-b77a-9a3537f0bab8",
   "metadata": {},
   "source": [
    "### Building Predictive System"
   ]
  },
  {
   "cell_type": "code",
   "execution_count": 30,
   "id": "2d3993d5-c356-477f-883c-941d229f48e1",
   "metadata": {
    "tags": []
   },
   "outputs": [],
   "source": [
    "input_mail = [\"new sequenc window\"]\n",
    "input_mail = [lemmatize_words(remove_stopwords(remove_punctuations(input_mail[0])))]\n",
    "# input_mail"
   ]
  },
  {
   "cell_type": "code",
   "execution_count": 31,
   "id": "5d931ecf-3dcc-49e7-a551-c4c0ac926281",
   "metadata": {
    "tags": []
   },
   "outputs": [],
   "source": [
    "input_data_feature = featureX.transform(input_mail)"
   ]
  },
  {
   "cell_type": "code",
   "execution_count": 32,
   "id": "9534c930-6007-4a6b-a246-59ae43c5c0d6",
   "metadata": {
    "tags": []
   },
   "outputs": [
    {
     "name": "stdout",
     "output_type": "stream",
     "text": [
      "[0]\n"
     ]
    }
   ],
   "source": [
    "#making prediction \n",
    "prediction = classfier.predict(input_data_feature)\n",
    "print(prediction)"
   ]
  },
  {
   "cell_type": "code",
   "execution_count": null,
   "id": "bd03f1ec-5443-4051-917d-1d789976d615",
   "metadata": {},
   "outputs": [],
   "source": []
  }
 ],
 "metadata": {
  "kernelspec": {
   "display_name": "Python 3 (ipykernel)",
   "language": "python",
   "name": "python3"
  },
  "language_info": {
   "codemirror_mode": {
    "name": "ipython",
    "version": 3
   },
   "file_extension": ".py",
   "mimetype": "text/x-python",
   "name": "python",
   "nbconvert_exporter": "python",
   "pygments_lexer": "ipython3",
   "version": "3.11.1"
  }
 },
 "nbformat": 4,
 "nbformat_minor": 5
}
