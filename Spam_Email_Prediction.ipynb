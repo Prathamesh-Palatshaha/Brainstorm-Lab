{
 "cells": [
  {
   "cell_type": "code",
   "execution_count": 1,
   "id": "81574ad7-272d-45f7-a802-93602ecea630",
   "metadata": {
    "tags": []
   },
   "outputs": [],
   "source": [
    "import pandas as pd\n",
    "import numpy as np"
   ]
  },
  {
   "cell_type": "code",
   "execution_count": 2,
   "id": "27e93e17-d804-49ad-97b9-23c52e519f50",
   "metadata": {
    "tags": []
   },
   "outputs": [
    {
     "data": {
      "text/html": [
       "<div>\n",
       "<style scoped>\n",
       "    .dataframe tbody tr th:only-of-type {\n",
       "        vertical-align: middle;\n",
       "    }\n",
       "\n",
       "    .dataframe tbody tr th {\n",
       "        vertical-align: top;\n",
       "    }\n",
       "\n",
       "    .dataframe thead th {\n",
       "        text-align: right;\n",
       "    }\n",
       "</style>\n",
       "<table border=\"1\" class=\"dataframe\">\n",
       "  <thead>\n",
       "    <tr style=\"text-align: right;\">\n",
       "      <th></th>\n",
       "      <th>text</th>\n",
       "      <th>target</th>\n",
       "    </tr>\n",
       "  </thead>\n",
       "  <tbody>\n",
       "    <tr>\n",
       "      <th>0</th>\n",
       "      <td>From ilug-admin@linux.ie Mon Jul 29 11:28:02 2...</td>\n",
       "      <td>0</td>\n",
       "    </tr>\n",
       "    <tr>\n",
       "      <th>1</th>\n",
       "      <td>From gort44@excite.com Mon Jun 24 17:54:21 200...</td>\n",
       "      <td>1</td>\n",
       "    </tr>\n",
       "    <tr>\n",
       "      <th>2</th>\n",
       "      <td>From fork-admin@xent.com Mon Jul 29 11:39:57 2...</td>\n",
       "      <td>1</td>\n",
       "    </tr>\n",
       "    <tr>\n",
       "      <th>3</th>\n",
       "      <td>From dcm123@btamail.net.cn Mon Jun 24 17:49:23...</td>\n",
       "      <td>1</td>\n",
       "    </tr>\n",
       "    <tr>\n",
       "      <th>4</th>\n",
       "      <td>From ilug-admin@linux.ie Mon Aug 19 11:02:47 2...</td>\n",
       "      <td>0</td>\n",
       "    </tr>\n",
       "  </tbody>\n",
       "</table>\n",
       "</div>"
      ],
      "text/plain": [
       "                                                text  target\n",
       "0  From ilug-admin@linux.ie Mon Jul 29 11:28:02 2...       0\n",
       "1  From gort44@excite.com Mon Jun 24 17:54:21 200...       1\n",
       "2  From fork-admin@xent.com Mon Jul 29 11:39:57 2...       1\n",
       "3  From dcm123@btamail.net.cn Mon Jun 24 17:49:23...       1\n",
       "4  From ilug-admin@linux.ie Mon Aug 19 11:02:47 2...       0"
      ]
     },
     "execution_count": 2,
     "metadata": {},
     "output_type": "execute_result"
    }
   ],
   "source": [
    "df = pd.read_csv('./spam_assassin.csv')\n",
    "df.head()"
   ]
  },
  {
   "cell_type": "markdown",
   "id": "8ee448ce-4042-45d3-8a06-284d1de4872a",
   "metadata": {},
   "source": [
    "##### Label: 0 means ham, 1 means spam."
   ]
  },
  {
   "cell_type": "code",
   "execution_count": 4,
   "id": "fa6d1002-11a5-42cc-b4f9-b1d3e8eeb39b",
   "metadata": {
    "tags": []
   },
   "outputs": [
    {
     "name": "stdout",
     "output_type": "stream",
     "text": [
      "<class 'pandas.core.frame.DataFrame'>\n",
      "RangeIndex: 5796 entries, 0 to 5795\n",
      "Data columns (total 2 columns):\n",
      " #   Column  Non-Null Count  Dtype \n",
      "---  ------  --------------  ----- \n",
      " 0   text    5796 non-null   object\n",
      " 1   target  5796 non-null   int64 \n",
      "dtypes: int64(1), object(1)\n",
      "memory usage: 90.7+ KB\n"
     ]
    }
   ],
   "source": [
    "df.info()"
   ]
  },
  {
   "cell_type": "code",
   "execution_count": 6,
   "id": "ee3e1af6-2cea-4837-bb4e-04f02d767f74",
   "metadata": {
    "tags": []
   },
   "outputs": [
    {
     "data": {
      "text/html": [
       "<div>\n",
       "<style scoped>\n",
       "    .dataframe tbody tr th:only-of-type {\n",
       "        vertical-align: middle;\n",
       "    }\n",
       "\n",
       "    .dataframe tbody tr th {\n",
       "        vertical-align: top;\n",
       "    }\n",
       "\n",
       "    .dataframe thead th {\n",
       "        text-align: right;\n",
       "    }\n",
       "</style>\n",
       "<table border=\"1\" class=\"dataframe\">\n",
       "  <thead>\n",
       "    <tr style=\"text-align: right;\">\n",
       "      <th></th>\n",
       "      <th>main</th>\n",
       "      <th>label</th>\n",
       "    </tr>\n",
       "  </thead>\n",
       "  <tbody>\n",
       "    <tr>\n",
       "      <th>0</th>\n",
       "      <td>From ilug-admin@linux.ie Mon Jul 29 11:28:02 2...</td>\n",
       "      <td>0</td>\n",
       "    </tr>\n",
       "    <tr>\n",
       "      <th>1</th>\n",
       "      <td>From gort44@excite.com Mon Jun 24 17:54:21 200...</td>\n",
       "      <td>1</td>\n",
       "    </tr>\n",
       "    <tr>\n",
       "      <th>2</th>\n",
       "      <td>From fork-admin@xent.com Mon Jul 29 11:39:57 2...</td>\n",
       "      <td>1</td>\n",
       "    </tr>\n",
       "    <tr>\n",
       "      <th>3</th>\n",
       "      <td>From dcm123@btamail.net.cn Mon Jun 24 17:49:23...</td>\n",
       "      <td>1</td>\n",
       "    </tr>\n",
       "    <tr>\n",
       "      <th>4</th>\n",
       "      <td>From ilug-admin@linux.ie Mon Aug 19 11:02:47 2...</td>\n",
       "      <td>0</td>\n",
       "    </tr>\n",
       "  </tbody>\n",
       "</table>\n",
       "</div>"
      ],
      "text/plain": [
       "                                                main  label\n",
       "0  From ilug-admin@linux.ie Mon Jul 29 11:28:02 2...      0\n",
       "1  From gort44@excite.com Mon Jun 24 17:54:21 200...      1\n",
       "2  From fork-admin@xent.com Mon Jul 29 11:39:57 2...      1\n",
       "3  From dcm123@btamail.net.cn Mon Jun 24 17:49:23...      1\n",
       "4  From ilug-admin@linux.ie Mon Aug 19 11:02:47 2...      0"
      ]
     },
     "execution_count": 6,
     "metadata": {},
     "output_type": "execute_result"
    }
   ],
   "source": [
    "df.columns = ['main','label']\n",
    "df.head()"
   ]
  },
  {
   "cell_type": "markdown",
   "id": "257471b1-cbea-4267-8966-18045d5b9649",
   "metadata": {},
   "source": [
    "#### Pre-Processing"
   ]
  },
  {
   "cell_type": "code",
   "execution_count": 7,
   "id": "9838749a-1563-46b7-8d41-ca4527fbff93",
   "metadata": {
    "tags": []
   },
   "outputs": [],
   "source": [
    "df.main = df.main.str.lower()"
   ]
  },
  {
   "cell_type": "code",
   "execution_count": 8,
   "id": "1b97c625-1310-4775-a09c-2dc64257abf5",
   "metadata": {
    "tags": []
   },
   "outputs": [
    {
     "data": {
      "text/plain": [
       "0"
      ]
     },
     "execution_count": 8,
     "metadata": {},
     "output_type": "execute_result"
    }
   ],
   "source": [
    "df.main.isnull().sum()"
   ]
  },
  {
   "cell_type": "code",
   "execution_count": 9,
   "id": "50945542-0392-4eb4-b7e1-ad3cdcc7a23f",
   "metadata": {
    "tags": []
   },
   "outputs": [],
   "source": [
    "df.main.fillna(\" \", inplace=True)"
   ]
  },
  {
   "cell_type": "code",
   "execution_count": 10,
   "id": "84003069-ac0d-484b-88aa-4138ac9613d7",
   "metadata": {
    "tags": []
   },
   "outputs": [
    {
     "data": {
      "text/html": [
       "<div>\n",
       "<style scoped>\n",
       "    .dataframe tbody tr th:only-of-type {\n",
       "        vertical-align: middle;\n",
       "    }\n",
       "\n",
       "    .dataframe tbody tr th {\n",
       "        vertical-align: top;\n",
       "    }\n",
       "\n",
       "    .dataframe thead th {\n",
       "        text-align: right;\n",
       "    }\n",
       "</style>\n",
       "<table border=\"1\" class=\"dataframe\">\n",
       "  <thead>\n",
       "    <tr style=\"text-align: right;\">\n",
       "      <th></th>\n",
       "      <th>main</th>\n",
       "      <th>label</th>\n",
       "      <th>clean_text</th>\n",
       "    </tr>\n",
       "  </thead>\n",
       "  <tbody>\n",
       "    <tr>\n",
       "      <th>0</th>\n",
       "      <td>from ilug-admin@linux.ie mon jul 29 11:28:02 2...</td>\n",
       "      <td>0</td>\n",
       "      <td>from ilugadminlinuxie mon jul 29 112802 2002 r...</td>\n",
       "    </tr>\n",
       "    <tr>\n",
       "      <th>1</th>\n",
       "      <td>from gort44@excite.com mon jun 24 17:54:21 200...</td>\n",
       "      <td>1</td>\n",
       "      <td>from gort44excitecom mon jun 24 175421 2002 re...</td>\n",
       "    </tr>\n",
       "    <tr>\n",
       "      <th>2</th>\n",
       "      <td>from fork-admin@xent.com mon jul 29 11:39:57 2...</td>\n",
       "      <td>1</td>\n",
       "      <td>from forkadminxentcom mon jul 29 113957 2002 r...</td>\n",
       "    </tr>\n",
       "    <tr>\n",
       "      <th>3</th>\n",
       "      <td>from dcm123@btamail.net.cn mon jun 24 17:49:23...</td>\n",
       "      <td>1</td>\n",
       "      <td>from dcm123btamailnetcn mon jun 24 174923 2002...</td>\n",
       "    </tr>\n",
       "    <tr>\n",
       "      <th>4</th>\n",
       "      <td>from ilug-admin@linux.ie mon aug 19 11:02:47 2...</td>\n",
       "      <td>0</td>\n",
       "      <td>from ilugadminlinuxie mon aug 19 110247 2002 r...</td>\n",
       "    </tr>\n",
       "  </tbody>\n",
       "</table>\n",
       "</div>"
      ],
      "text/plain": [
       "                                                main  label  \\\n",
       "0  from ilug-admin@linux.ie mon jul 29 11:28:02 2...      0   \n",
       "1  from gort44@excite.com mon jun 24 17:54:21 200...      1   \n",
       "2  from fork-admin@xent.com mon jul 29 11:39:57 2...      1   \n",
       "3  from dcm123@btamail.net.cn mon jun 24 17:49:23...      1   \n",
       "4  from ilug-admin@linux.ie mon aug 19 11:02:47 2...      0   \n",
       "\n",
       "                                          clean_text  \n",
       "0  from ilugadminlinuxie mon jul 29 112802 2002 r...  \n",
       "1  from gort44excitecom mon jun 24 175421 2002 re...  \n",
       "2  from forkadminxentcom mon jul 29 113957 2002 r...  \n",
       "3  from dcm123btamailnetcn mon jun 24 174923 2002...  \n",
       "4  from ilugadminlinuxie mon aug 19 110247 2002 r...  "
      ]
     },
     "execution_count": 10,
     "metadata": {},
     "output_type": "execute_result"
    }
   ],
   "source": [
    "# Remove Punctuations\n",
    "import string\n",
    "def remove_punctuations(text):\n",
    "    punctuations = string.punctuation\n",
    "    return text.translate(str.maketrans('', '', punctuations))\n",
    "df['clean_text'] = df['main'].apply(lambda x: remove_punctuations(x))\n",
    "df.head()"
   ]
  },
  {
   "cell_type": "code",
   "execution_count": 11,
   "id": "fbf9983e-dbba-4cf4-a208-7b5710e80985",
   "metadata": {
    "tags": []
   },
   "outputs": [
    {
     "data": {
      "text/html": [
       "<div>\n",
       "<style scoped>\n",
       "    .dataframe tbody tr th:only-of-type {\n",
       "        vertical-align: middle;\n",
       "    }\n",
       "\n",
       "    .dataframe tbody tr th {\n",
       "        vertical-align: top;\n",
       "    }\n",
       "\n",
       "    .dataframe thead th {\n",
       "        text-align: right;\n",
       "    }\n",
       "</style>\n",
       "<table border=\"1\" class=\"dataframe\">\n",
       "  <thead>\n",
       "    <tr style=\"text-align: right;\">\n",
       "      <th></th>\n",
       "      <th>main</th>\n",
       "      <th>label</th>\n",
       "      <th>clean_text</th>\n",
       "    </tr>\n",
       "  </thead>\n",
       "  <tbody>\n",
       "    <tr>\n",
       "      <th>0</th>\n",
       "      <td>from ilug-admin@linux.ie mon jul 29 11:28:02 2...</td>\n",
       "      <td>0</td>\n",
       "      <td>ilugadminlinuxie mon jul 29 112802 2002 return...</td>\n",
       "    </tr>\n",
       "    <tr>\n",
       "      <th>1</th>\n",
       "      <td>from gort44@excite.com mon jun 24 17:54:21 200...</td>\n",
       "      <td>1</td>\n",
       "      <td>gort44excitecom mon jun 24 175421 2002 returnp...</td>\n",
       "    </tr>\n",
       "    <tr>\n",
       "      <th>2</th>\n",
       "      <td>from fork-admin@xent.com mon jul 29 11:39:57 2...</td>\n",
       "      <td>1</td>\n",
       "      <td>forkadminxentcom mon jul 29 113957 2002 return...</td>\n",
       "    </tr>\n",
       "    <tr>\n",
       "      <th>3</th>\n",
       "      <td>from dcm123@btamail.net.cn mon jun 24 17:49:23...</td>\n",
       "      <td>1</td>\n",
       "      <td>dcm123btamailnetcn mon jun 24 174923 2002 retu...</td>\n",
       "    </tr>\n",
       "    <tr>\n",
       "      <th>4</th>\n",
       "      <td>from ilug-admin@linux.ie mon aug 19 11:02:47 2...</td>\n",
       "      <td>0</td>\n",
       "      <td>ilugadminlinuxie mon aug 19 110247 2002 return...</td>\n",
       "    </tr>\n",
       "  </tbody>\n",
       "</table>\n",
       "</div>"
      ],
      "text/plain": [
       "                                                main  label  \\\n",
       "0  from ilug-admin@linux.ie mon jul 29 11:28:02 2...      0   \n",
       "1  from gort44@excite.com mon jun 24 17:54:21 200...      1   \n",
       "2  from fork-admin@xent.com mon jul 29 11:39:57 2...      1   \n",
       "3  from dcm123@btamail.net.cn mon jun 24 17:49:23...      1   \n",
       "4  from ilug-admin@linux.ie mon aug 19 11:02:47 2...      0   \n",
       "\n",
       "                                          clean_text  \n",
       "0  ilugadminlinuxie mon jul 29 112802 2002 return...  \n",
       "1  gort44excitecom mon jun 24 175421 2002 returnp...  \n",
       "2  forkadminxentcom mon jul 29 113957 2002 return...  \n",
       "3  dcm123btamailnetcn mon jun 24 174923 2002 retu...  \n",
       "4  ilugadminlinuxie mon aug 19 110247 2002 return...  "
      ]
     },
     "execution_count": 11,
     "metadata": {},
     "output_type": "execute_result"
    }
   ],
   "source": [
    "# Stop word removal\n",
    "from nltk.corpus import stopwords\n",
    "\", \".join(stopwords.words('english'))\n",
    "STOPWORDS = set(stopwords.words('english'))\n",
    "def remove_stopwords(text):\n",
    "    return \" \".join([word for word in text.split() if word not in STOPWORDS])\n",
    "df['clean_text'] = df['clean_text'].apply(lambda x: remove_stopwords(x))\n",
    "df.head()"
   ]
  },
  {
   "cell_type": "code",
   "execution_count": 18,
   "id": "729d4bd3-7d6b-4ff5-af6c-f14c57d788f5",
   "metadata": {
    "tags": []
   },
   "outputs": [
    {
     "data": {
      "text/plain": [
       "[('2002', 46596),\n",
       " ('received', 32310),\n",
       " ('id', 24307),\n",
       " ('esmtp', 18746),\n",
       " ('0100', 16531),\n",
       " ('localhost', 15510),\n",
       " ('aug', 14847),\n",
       " ('127001', 12941),\n",
       " ('sep', 11881),\n",
       " ('td', 10299)]"
      ]
     },
     "execution_count": 18,
     "metadata": {},
     "output_type": "execute_result"
    }
   ],
   "source": [
    "# Frequent Words \n",
    "from collections import Counter\n",
    "word_count = Counter()\n",
    "for text in df['clean_text']:\n",
    "    for word in text.split():\n",
    "        word_count[word] += 1\n",
    "        \n",
    "word_count.most_common(10)"
   ]
  },
  {
   "cell_type": "code",
   "execution_count": 19,
   "id": "7492f2f5-a46e-42ba-97d3-b0c182806e29",
   "metadata": {
    "tags": []
   },
   "outputs": [
    {
     "data": {
      "text/html": [
       "<div>\n",
       "<style scoped>\n",
       "    .dataframe tbody tr th:only-of-type {\n",
       "        vertical-align: middle;\n",
       "    }\n",
       "\n",
       "    .dataframe tbody tr th {\n",
       "        vertical-align: top;\n",
       "    }\n",
       "\n",
       "    .dataframe thead th {\n",
       "        text-align: right;\n",
       "    }\n",
       "</style>\n",
       "<table border=\"1\" class=\"dataframe\">\n",
       "  <thead>\n",
       "    <tr style=\"text-align: right;\">\n",
       "      <th></th>\n",
       "      <th>main</th>\n",
       "      <th>label</th>\n",
       "      <th>clean_text</th>\n",
       "    </tr>\n",
       "  </thead>\n",
       "  <tbody>\n",
       "    <tr>\n",
       "      <th>0</th>\n",
       "      <td>from ilug-admin@linux.ie mon jul 29 11:28:02 2...</td>\n",
       "      <td>0</td>\n",
       "      <td>ilugadminlinuxie mon jul 29 112802 returnpath ...</td>\n",
       "    </tr>\n",
       "    <tr>\n",
       "      <th>1</th>\n",
       "      <td>from gort44@excite.com mon jun 24 17:54:21 200...</td>\n",
       "      <td>1</td>\n",
       "      <td>gort44excitecom mon jun 24 175421 returnpath g...</td>\n",
       "    </tr>\n",
       "    <tr>\n",
       "      <th>2</th>\n",
       "      <td>from fork-admin@xent.com mon jul 29 11:39:57 2...</td>\n",
       "      <td>1</td>\n",
       "      <td>forkadminxentcom mon jul 29 113957 returnpath ...</td>\n",
       "    </tr>\n",
       "    <tr>\n",
       "      <th>3</th>\n",
       "      <td>from dcm123@btamail.net.cn mon jun 24 17:49:23...</td>\n",
       "      <td>1</td>\n",
       "      <td>dcm123btamailnetcn mon jun 24 174923 returnpat...</td>\n",
       "    </tr>\n",
       "    <tr>\n",
       "      <th>4</th>\n",
       "      <td>from ilug-admin@linux.ie mon aug 19 11:02:47 2...</td>\n",
       "      <td>0</td>\n",
       "      <td>ilugadminlinuxie mon 19 110247 returnpath ilug...</td>\n",
       "    </tr>\n",
       "  </tbody>\n",
       "</table>\n",
       "</div>"
      ],
      "text/plain": [
       "                                                main  label  \\\n",
       "0  from ilug-admin@linux.ie mon jul 29 11:28:02 2...      0   \n",
       "1  from gort44@excite.com mon jun 24 17:54:21 200...      1   \n",
       "2  from fork-admin@xent.com mon jul 29 11:39:57 2...      1   \n",
       "3  from dcm123@btamail.net.cn mon jun 24 17:49:23...      1   \n",
       "4  from ilug-admin@linux.ie mon aug 19 11:02:47 2...      0   \n",
       "\n",
       "                                          clean_text  \n",
       "0  ilugadminlinuxie mon jul 29 112802 returnpath ...  \n",
       "1  gort44excitecom mon jun 24 175421 returnpath g...  \n",
       "2  forkadminxentcom mon jul 29 113957 returnpath ...  \n",
       "3  dcm123btamailnetcn mon jun 24 174923 returnpat...  \n",
       "4  ilugadminlinuxie mon 19 110247 returnpath ilug...  "
      ]
     },
     "execution_count": 19,
     "metadata": {},
     "output_type": "execute_result"
    }
   ],
   "source": [
    "FREQUENT_WORDS = set(word for (word, wc) in word_count.most_common(10))\n",
    "def remove_freq_words(text):\n",
    "    return \" \".join([word for word in text.split() if word not in FREQUENT_WORDS])\n",
    "\n",
    "df['clean_text'] = df['clean_text'].apply(lambda x: remove_freq_words(x))\n",
    "df.head()\n",
    "\n"
   ]
  },
  {
   "cell_type": "code",
   "execution_count": 13,
   "id": "6b19d1e1-a190-46eb-b5ec-c79fa35ede10",
   "metadata": {
    "tags": []
   },
   "outputs": [],
   "source": [
    "#  Stemming\n",
    "# from nltk.stem.porter import PorterStemmer\n",
    "# ps = PorterStemmer()\n",
    "# def stem_words(text):\n",
    "#     return \" \".join([ps.stem(word) for word in text.split()])\n",
    "# df['stemmed_text'] = df['result'].apply(lambda x: stem_words(x))\n",
    "# df.head()"
   ]
  },
  {
   "cell_type": "code",
   "execution_count": 21,
   "id": "0a396974-578b-4f29-b86d-d389dde2a1f5",
   "metadata": {
    "tags": []
   },
   "outputs": [
    {
     "data": {
      "text/html": [
       "<div>\n",
       "<style scoped>\n",
       "    .dataframe tbody tr th:only-of-type {\n",
       "        vertical-align: middle;\n",
       "    }\n",
       "\n",
       "    .dataframe tbody tr th {\n",
       "        vertical-align: top;\n",
       "    }\n",
       "\n",
       "    .dataframe thead th {\n",
       "        text-align: right;\n",
       "    }\n",
       "</style>\n",
       "<table border=\"1\" class=\"dataframe\">\n",
       "  <thead>\n",
       "    <tr style=\"text-align: right;\">\n",
       "      <th></th>\n",
       "      <th>main</th>\n",
       "      <th>label</th>\n",
       "      <th>clean_text</th>\n",
       "      <th>lemmatized_text</th>\n",
       "    </tr>\n",
       "  </thead>\n",
       "  <tbody>\n",
       "    <tr>\n",
       "      <th>0</th>\n",
       "      <td>from ilug-admin@linux.ie mon jul 29 11:28:02 2...</td>\n",
       "      <td>0</td>\n",
       "      <td>ilugadminlinuxie mon jul 29 112802 returnpath ...</td>\n",
       "      <td>ilugadminlinuxie mon jul 29 112802 returnpath ...</td>\n",
       "    </tr>\n",
       "    <tr>\n",
       "      <th>1</th>\n",
       "      <td>from gort44@excite.com mon jun 24 17:54:21 200...</td>\n",
       "      <td>1</td>\n",
       "      <td>gort44excitecom mon jun 24 175421 returnpath g...</td>\n",
       "      <td>gort44excitecom mon jun 24 175421 returnpath g...</td>\n",
       "    </tr>\n",
       "    <tr>\n",
       "      <th>2</th>\n",
       "      <td>from fork-admin@xent.com mon jul 29 11:39:57 2...</td>\n",
       "      <td>1</td>\n",
       "      <td>forkadminxentcom mon jul 29 113957 returnpath ...</td>\n",
       "      <td>forkadminxentcom mon jul 29 113957 returnpath ...</td>\n",
       "    </tr>\n",
       "    <tr>\n",
       "      <th>3</th>\n",
       "      <td>from dcm123@btamail.net.cn mon jun 24 17:49:23...</td>\n",
       "      <td>1</td>\n",
       "      <td>dcm123btamailnetcn mon jun 24 174923 returnpat...</td>\n",
       "      <td>dcm123btamailnetcn mon jun 24 174923 returnpat...</td>\n",
       "    </tr>\n",
       "    <tr>\n",
       "      <th>4</th>\n",
       "      <td>from ilug-admin@linux.ie mon aug 19 11:02:47 2...</td>\n",
       "      <td>0</td>\n",
       "      <td>ilugadminlinuxie mon 19 110247 returnpath ilug...</td>\n",
       "      <td>ilugadminlinuxie mon 19 110247 returnpath ilug...</td>\n",
       "    </tr>\n",
       "  </tbody>\n",
       "</table>\n",
       "</div>"
      ],
      "text/plain": [
       "                                                main  label  \\\n",
       "0  from ilug-admin@linux.ie mon jul 29 11:28:02 2...      0   \n",
       "1  from gort44@excite.com mon jun 24 17:54:21 200...      1   \n",
       "2  from fork-admin@xent.com mon jul 29 11:39:57 2...      1   \n",
       "3  from dcm123@btamail.net.cn mon jun 24 17:49:23...      1   \n",
       "4  from ilug-admin@linux.ie mon aug 19 11:02:47 2...      0   \n",
       "\n",
       "                                          clean_text  \\\n",
       "0  ilugadminlinuxie mon jul 29 112802 returnpath ...   \n",
       "1  gort44excitecom mon jun 24 175421 returnpath g...   \n",
       "2  forkadminxentcom mon jul 29 113957 returnpath ...   \n",
       "3  dcm123btamailnetcn mon jun 24 174923 returnpat...   \n",
       "4  ilugadminlinuxie mon 19 110247 returnpath ilug...   \n",
       "\n",
       "                                     lemmatized_text  \n",
       "0  ilugadminlinuxie mon jul 29 112802 returnpath ...  \n",
       "1  gort44excitecom mon jun 24 175421 returnpath g...  \n",
       "2  forkadminxentcom mon jul 29 113957 returnpath ...  \n",
       "3  dcm123btamailnetcn mon jun 24 174923 returnpat...  \n",
       "4  ilugadminlinuxie mon 19 110247 returnpath ilug...  "
      ]
     },
     "execution_count": 21,
     "metadata": {},
     "output_type": "execute_result"
    }
   ],
   "source": [
    "# Lemmatization & POS Tagging\n",
    "\n",
    "from nltk import pos_tag\n",
    "from nltk.corpus import wordnet\n",
    "from nltk.stem import WordNetLemmatizer\n",
    "\n",
    "lemmatizer = WordNetLemmatizer()\n",
    "wordnet_map = {\"N\":wordnet.NOUN, \"V\": wordnet.VERB, \"J\": wordnet.ADJ, \"R\": wordnet.ADV}\n",
    "\n",
    "def lemmatize_words(text):\n",
    "    # find pos tags\n",
    "    pos_text = pos_tag(text.split())\n",
    "    return \" \".join([lemmatizer.lemmatize(word, wordnet_map.get(pos[0], wordnet.NOUN)) for word, pos in pos_text])\n",
    "\n",
    "df['lemmatized_text'] = df['clean_text'].apply(lambda x: lemmatize_words(x))\n",
    "df.head()"
   ]
  },
  {
   "cell_type": "code",
   "execution_count": 22,
   "id": "814ec71c-a799-482b-98c9-a94f466c57ca",
   "metadata": {
    "tags": []
   },
   "outputs": [
    {
     "data": {
      "text/html": [
       "<div>\n",
       "<style scoped>\n",
       "    .dataframe tbody tr th:only-of-type {\n",
       "        vertical-align: middle;\n",
       "    }\n",
       "\n",
       "    .dataframe tbody tr th {\n",
       "        vertical-align: top;\n",
       "    }\n",
       "\n",
       "    .dataframe thead th {\n",
       "        text-align: right;\n",
       "    }\n",
       "</style>\n",
       "<table border=\"1\" class=\"dataframe\">\n",
       "  <thead>\n",
       "    <tr style=\"text-align: right;\">\n",
       "      <th></th>\n",
       "      <th>main</th>\n",
       "      <th>label</th>\n",
       "      <th>clean_text</th>\n",
       "      <th>lemmatized_text</th>\n",
       "    </tr>\n",
       "  </thead>\n",
       "  <tbody>\n",
       "    <tr>\n",
       "      <th>4425</th>\n",
       "      <td>from des34newsa@hotmail.com fri aug 23 11:03:2...</td>\n",
       "      <td>1</td>\n",
       "      <td>des34newsahotmailcom fri 23 110327 returnpath ...</td>\n",
       "      <td>des34newsahotmailcom fri 23 110327 returnpath ...</td>\n",
       "    </tr>\n",
       "    <tr>\n",
       "      <th>1148</th>\n",
       "      <td>from ilug-admin@linux.ie fri aug 16 15:02:05 2...</td>\n",
       "      <td>0</td>\n",
       "      <td>ilugadminlinuxie fri 16 150205 returnpath ilug...</td>\n",
       "      <td>ilugadminlinuxie fri 16 150205 returnpath ilug...</td>\n",
       "    </tr>\n",
       "    <tr>\n",
       "      <th>1909</th>\n",
       "      <td>received: from mail.escorts.co.in (ident:root@...</td>\n",
       "      <td>1</td>\n",
       "      <td>mailescortscoin identroot2032007575 linuxmidra...</td>\n",
       "      <td>mailescortscoin identroot2032007575 linuxmidra...</td>\n",
       "    </tr>\n",
       "    <tr>\n",
       "      <th>5373</th>\n",
       "      <td>from mort239o@xum9.xumx.com mon jun 24 17:48:2...</td>\n",
       "      <td>1</td>\n",
       "      <td>mort239oxum9xumxcom mon jun 24 174823 returnpa...</td>\n",
       "      <td>mort239oxum9xumxcom mon jun 24 174823 returnpa...</td>\n",
       "    </tr>\n",
       "    <tr>\n",
       "      <th>1292</th>\n",
       "      <td>from razor-users-admin@lists.sourceforge.net f...</td>\n",
       "      <td>0</td>\n",
       "      <td>razorusersadminlistssourceforgenet fri 9 15335...</td>\n",
       "      <td>razorusersadminlistssourceforgenet fri 9 15335...</td>\n",
       "    </tr>\n",
       "    <tr>\n",
       "      <th>96</th>\n",
       "      <td>from fork-admin@xent.com thu sep 19 11:04:48 2...</td>\n",
       "      <td>0</td>\n",
       "      <td>forkadminxentcom thu 19 110448 returnpath fork...</td>\n",
       "      <td>forkadminxentcom thu 19 110448 returnpath fork...</td>\n",
       "    </tr>\n",
       "    <tr>\n",
       "      <th>2751</th>\n",
       "      <td>from ilug-admin@linux.ie fri jul 19 16:19:05 2...</td>\n",
       "      <td>0</td>\n",
       "      <td>ilugadminlinuxie fri jul 19 161905 returnpath ...</td>\n",
       "      <td>ilugadminlinuxie fri jul 19 161905 returnpath ...</td>\n",
       "    </tr>\n",
       "    <tr>\n",
       "      <th>2290</th>\n",
       "      <td>from fork-admin@xent.com mon jul 29 11:28:59 2...</td>\n",
       "      <td>0</td>\n",
       "      <td>forkadminxentcom mon jul 29 112859 returnpath ...</td>\n",
       "      <td>forkadminxentcom mon jul 29 112859 returnpath ...</td>\n",
       "    </tr>\n",
       "    <tr>\n",
       "      <th>939</th>\n",
       "      <td>from yourmembership2@aeopublishing.com sat jun...</td>\n",
       "      <td>1</td>\n",
       "      <td>yourmembership2aeopublishingcom sat jun 30 073...</td>\n",
       "      <td>yourmembership2aeopublishingcom sit jun 30 073...</td>\n",
       "    </tr>\n",
       "    <tr>\n",
       "      <th>3069</th>\n",
       "      <td>from fork-admin@xent.com mon jul 29 11:41:22 2...</td>\n",
       "      <td>1</td>\n",
       "      <td>forkadminxentcom mon jul 29 114122 returnpath ...</td>\n",
       "      <td>forkadminxentcom mon jul 29 114122 returnpath ...</td>\n",
       "    </tr>\n",
       "  </tbody>\n",
       "</table>\n",
       "</div>"
      ],
      "text/plain": [
       "                                                   main  label  \\\n",
       "4425  from des34newsa@hotmail.com fri aug 23 11:03:2...      1   \n",
       "1148  from ilug-admin@linux.ie fri aug 16 15:02:05 2...      0   \n",
       "1909  received: from mail.escorts.co.in (ident:root@...      1   \n",
       "5373  from mort239o@xum9.xumx.com mon jun 24 17:48:2...      1   \n",
       "1292  from razor-users-admin@lists.sourceforge.net f...      0   \n",
       "96    from fork-admin@xent.com thu sep 19 11:04:48 2...      0   \n",
       "2751  from ilug-admin@linux.ie fri jul 19 16:19:05 2...      0   \n",
       "2290  from fork-admin@xent.com mon jul 29 11:28:59 2...      0   \n",
       "939   from yourmembership2@aeopublishing.com sat jun...      1   \n",
       "3069  from fork-admin@xent.com mon jul 29 11:41:22 2...      1   \n",
       "\n",
       "                                             clean_text  \\\n",
       "4425  des34newsahotmailcom fri 23 110327 returnpath ...   \n",
       "1148  ilugadminlinuxie fri 16 150205 returnpath ilug...   \n",
       "1909  mailescortscoin identroot2032007575 linuxmidra...   \n",
       "5373  mort239oxum9xumxcom mon jun 24 174823 returnpa...   \n",
       "1292  razorusersadminlistssourceforgenet fri 9 15335...   \n",
       "96    forkadminxentcom thu 19 110448 returnpath fork...   \n",
       "2751  ilugadminlinuxie fri jul 19 161905 returnpath ...   \n",
       "2290  forkadminxentcom mon jul 29 112859 returnpath ...   \n",
       "939   yourmembership2aeopublishingcom sat jun 30 073...   \n",
       "3069  forkadminxentcom mon jul 29 114122 returnpath ...   \n",
       "\n",
       "                                        lemmatized_text  \n",
       "4425  des34newsahotmailcom fri 23 110327 returnpath ...  \n",
       "1148  ilugadminlinuxie fri 16 150205 returnpath ilug...  \n",
       "1909  mailescortscoin identroot2032007575 linuxmidra...  \n",
       "5373  mort239oxum9xumxcom mon jun 24 174823 returnpa...  \n",
       "1292  razorusersadminlistssourceforgenet fri 9 15335...  \n",
       "96    forkadminxentcom thu 19 110448 returnpath fork...  \n",
       "2751  ilugadminlinuxie fri jul 19 161905 returnpath ...  \n",
       "2290  forkadminxentcom mon jul 29 112859 returnpath ...  \n",
       "939   yourmembership2aeopublishingcom sit jun 30 073...  \n",
       "3069  forkadminxentcom mon jul 29 114122 returnpath ...  "
      ]
     },
     "execution_count": 22,
     "metadata": {},
     "output_type": "execute_result"
    }
   ],
   "source": [
    "df.sample(frac=1).head(10)"
   ]
  },
  {
   "cell_type": "code",
   "execution_count": 23,
   "id": "40ca3f2b-49a4-44b0-9b43-1dbdc5a2282e",
   "metadata": {
    "tags": []
   },
   "outputs": [],
   "source": [
    "from sklearn.feature_extraction.text import TfidfVectorizer\n",
    "from sklearn.model_selection import train_test_split"
   ]
  },
  {
   "cell_type": "code",
   "execution_count": 24,
   "id": "6f1adfcf-0f6d-46f6-a7ec-5a214ac3a166",
   "metadata": {
    "tags": []
   },
   "outputs": [
    {
     "data": {
      "text/plain": [
       "0       ilugadminlinuxie mon jul 29 112802 returnpath ...\n",
       "1       gort44excitecom mon jun 24 175421 returnpath g...\n",
       "2       forkadminxentcom mon jul 29 113957 returnpath ...\n",
       "3       dcm123btamailnetcn mon jun 24 174923 returnpat...\n",
       "4       ilugadminlinuxie mon 19 110247 returnpath ilug...\n",
       "                              ...                        \n",
       "5791    ilugadminlinuxie mon jul 22 181245 returnpath ...\n",
       "5792    forkadminxentcom mon oct 7 203702 returnpath f...\n",
       "5793    hqpronsnet hqpronsnet 81258125 g6llbbcu047091 ...\n",
       "5794    razorusersadminlistssourceforgenet thu 12 1844...\n",
       "5795    rssfeedsjmasonorg mon 30 134410 returnpath rss...\n",
       "Name: lemmatized_text, Length: 5796, dtype: object"
      ]
     },
     "execution_count": 24,
     "metadata": {},
     "output_type": "execute_result"
    }
   ],
   "source": [
    "X = df.lemmatized_text\n",
    "X"
   ]
  },
  {
   "cell_type": "code",
   "execution_count": 25,
   "id": "d41b57bc-cd83-48b0-a443-49919efa1cbf",
   "metadata": {
    "tags": []
   },
   "outputs": [
    {
     "data": {
      "text/plain": [
       "0       0\n",
       "1       1\n",
       "2       1\n",
       "3       1\n",
       "4       0\n",
       "       ..\n",
       "5791    0\n",
       "5792    0\n",
       "5793    1\n",
       "5794    0\n",
       "5795    0\n",
       "Name: label, Length: 5796, dtype: int64"
      ]
     },
     "execution_count": 25,
     "metadata": {},
     "output_type": "execute_result"
    }
   ],
   "source": [
    "y = df.label\n",
    "y"
   ]
  },
  {
   "cell_type": "code",
   "execution_count": 26,
   "id": "9ddc4a16-3179-486e-a84c-bfa5282e4674",
   "metadata": {
    "tags": []
   },
   "outputs": [],
   "source": [
    "X_train , X_test, y_train, y_test = train_test_split(X,y, test_size=0.2, random_state=2, stratify=y)"
   ]
  },
  {
   "cell_type": "code",
   "execution_count": 27,
   "id": "4df70baf-9569-4a03-9216-96a375e359ca",
   "metadata": {
    "tags": []
   },
   "outputs": [],
   "source": [
    "# transform text data to feature vectors\n",
    "featureX = TfidfVectorizer(min_df=1, lowercase=True)\n",
    "X_train_feature = featureX.fit_transform(X_train)\n",
    "X_test_feature = featureX.transform(X_test)\n",
    "\n",
    "# lable values conversion\n",
    "\n",
    "y_train = y_train.astype('int')\n",
    "y_test = y_test.astype('int')"
   ]
  },
  {
   "cell_type": "code",
   "execution_count": 28,
   "id": "d223db0b-4031-47bd-9da4-1c2a499dd5c9",
   "metadata": {
    "tags": []
   },
   "outputs": [],
   "source": [
    "X = featureX.transform(X)"
   ]
  },
  {
   "cell_type": "code",
   "execution_count": 29,
   "id": "e49bf0db-e86f-4a74-8c38-3aaa022b3b26",
   "metadata": {
    "tags": []
   },
   "outputs": [
    {
     "name": "stdout",
     "output_type": "stream",
     "text": [
      "468     razorusersadminlistssourceforgenet fri 9 15342...\n",
      "4124    hqpronsnet hqpronsnet 81258125 g6o753hy015406 ...\n",
      "5723    rssfeedsjmasonorg thu 26 164312 returnpath rss...\n",
      "1090    olheie31usanet mon 6 130409 2001 returnpath ol...\n",
      "4549    rssfeedsjmasonorg thu 26 164306 returnpath rss...\n",
      "                              ...                        \n",
      "226     returnpath skippoboxcom deliverydate fri 6 161...\n",
      "803     forkadminxentcom thu 8 143734 returnpath forka...\n",
      "4224    rssfeedsjmasonorg tue 24 104729 returnpath rss...\n",
      "2721    jbgasparhotmailcom thu jun 28 040445 2001 retu...\n",
      "5179    newadulttoys0463b54yahoocom wed 28 110402 retu...\n",
      "Name: lemmatized_text, Length: 4636, dtype: object\n"
     ]
    }
   ],
   "source": [
    "print(X_train)"
   ]
  },
  {
   "cell_type": "code",
   "execution_count": 30,
   "id": "a4cd7121-3990-4c0d-8112-0dc7c3a0f2b2",
   "metadata": {
    "tags": []
   },
   "outputs": [
    {
     "name": "stdout",
     "output_type": "stream",
     "text": [
      "  (0, 94069)\t0.035223837591099996\n",
      "  (0, 94159)\t0.031537460848176706\n",
      "  (0, 88546)\t0.031074770630239543\n",
      "  (0, 86105)\t0.030636605597285586\n",
      "  (0, 145522)\t0.029848540034760486\n",
      "  (0, 58697)\t0.031537460848176706\n",
      "  (0, 133078)\t0.02505338147091036\n",
      "  (0, 128557)\t0.026618115722851665\n",
      "  (0, 123488)\t0.07233781379957914\n",
      "  (0, 121512)\t0.027816492579933728\n",
      "  (0, 58141)\t0.04294066676027578\n",
      "  (0, 55702)\t0.05903028886975995\n",
      "  (0, 65915)\t0.031537460848176706\n",
      "  (0, 123515)\t0.0689852538824583\n",
      "  (0, 141731)\t0.01623165645620696\n",
      "  (0, 48633)\t0.037510131051896586\n",
      "  (0, 98976)\t0.0344273305473604\n",
      "  (0, 97609)\t0.03775882438905693\n",
      "  (0, 54514)\t0.07233781379957914\n",
      "  (0, 68709)\t0.03494972088119787\n",
      "  (0, 147239)\t0.039909251291246436\n",
      "  (0, 113935)\t0.04294066676027578\n",
      "  (0, 56246)\t0.042823382096905095\n",
      "  (0, 128080)\t0.07917621368630985\n",
      "  (0, 108088)\t0.03915442439320226\n",
      "  :\t:\n",
      "  (4635, 137720)\t0.029939405432652205\n",
      "  (4635, 143681)\t0.029151059868192077\n",
      "  (4635, 131968)\t0.06003226260696458\n",
      "  (4635, 145444)\t0.07594435107276178\n",
      "  (4635, 67546)\t0.01115107133300328\n",
      "  (4635, 135848)\t0.01116310183512283\n",
      "  (4635, 39741)\t0.05349650628275527\n",
      "  (4635, 65221)\t0.018626014969727208\n",
      "  (4635, 65222)\t0.025453307816128805\n",
      "  (4635, 8966)\t0.013995487693379027\n",
      "  (4635, 109889)\t0.014380698901789378\n",
      "  (4635, 109374)\t0.011153476395308084\n",
      "  (4635, 2151)\t0.033251585122282434\n",
      "  (4635, 43920)\t0.01232408371332876\n",
      "  (4635, 70090)\t0.01277662145096907\n",
      "  (4635, 100378)\t0.013447435521783142\n",
      "  (4635, 129156)\t0.013324023195979829\n",
      "  (4635, 75997)\t0.013324023195979829\n",
      "  (4635, 98453)\t0.013983080380462835\n",
      "  (4635, 118915)\t0.02384827029903718\n",
      "  (4635, 72122)\t0.018499801538490516\n",
      "  (4635, 3447)\t0.016346517427728826\n",
      "  (4635, 120320)\t0.01296177556837856\n",
      "  (4635, 68482)\t0.012995772763410598\n",
      "  (4635, 125099)\t0.011565074082944639\n"
     ]
    }
   ],
   "source": [
    "print(X_train_feature)"
   ]
  },
  {
   "cell_type": "code",
   "execution_count": 31,
   "id": "25a59f8b-b3ff-43f2-b773-7de263a326e0",
   "metadata": {
    "tags": []
   },
   "outputs": [],
   "source": [
    "# importing models\n",
    "from sklearn.linear_model import LogisticRegression\n",
    "from sklearn import svm\n",
    "from sklearn.naive_bayes import MultinomialNB , GaussianNB , BernoulliNB"
   ]
  },
  {
   "cell_type": "code",
   "execution_count": 32,
   "id": "ffe1fe7d-16da-4a09-8fa7-ff5792f21205",
   "metadata": {
    "tags": []
   },
   "outputs": [],
   "source": [
    "# list of models\n",
    "from sklearn.model_selection import cross_val_score\n",
    "models = [LogisticRegression(max_iter=1000), MultinomialNB(), BernoulliNB(),svm.SVC(kernel='linear')]"
   ]
  },
  {
   "cell_type": "code",
   "execution_count": 33,
   "id": "54a9193d-e75b-4066-b251-d728f049a219",
   "metadata": {
    "tags": []
   },
   "outputs": [],
   "source": [
    "def compare_models_cross_validation():\n",
    "\n",
    "  for model in models:\n",
    "\n",
    "    cv_score = cross_val_score(model, X, y, cv=5)\n",
    "    mean_accuracy = sum(cv_score)/len(cv_score)\n",
    "    mean_accuracy = mean_accuracy*100\n",
    "    mean_accuracy = round(mean_accuracy, 2)\n",
    "\n",
    "    print('Cross Validation accuracies for the',model,'=', cv_score)\n",
    "    print('Acccuracy score of the ',model,'=',mean_accuracy,'%')\n",
    "    print('---------------------------------------------------------------')"
   ]
  },
  {
   "cell_type": "code",
   "execution_count": 34,
   "id": "b417763e-05a8-4f22-9d12-ef39e3a3e1d0",
   "metadata": {
    "tags": []
   },
   "outputs": [
    {
     "name": "stdout",
     "output_type": "stream",
     "text": [
      "Cross Validation accuracies for the LogisticRegression(max_iter=1000) = [0.98793103 0.98101812 0.986195   0.98446937 0.98705781]\n",
      "Acccuracy score of the  LogisticRegression(max_iter=1000) = 98.53 %\n",
      "---------------------------------------------------------------\n",
      "Cross Validation accuracies for the MultinomialNB() = [0.93793103 0.9257981  0.93356342 0.93356342 0.94219154]\n",
      "Acccuracy score of the  MultinomialNB() = 93.46 %\n",
      "---------------------------------------------------------------\n",
      "Cross Validation accuracies for the BernoulliNB() = [0.94396552 0.93701467 0.94823123 0.9456428  0.95081967]\n",
      "Acccuracy score of the  BernoulliNB() = 94.51 %\n",
      "---------------------------------------------------------------\n",
      "Cross Validation accuracies for the SVC(kernel='linear') = [0.99568966 0.99396031 0.99568594 0.99741156 0.99568594]\n",
      "Acccuracy score of the  SVC(kernel='linear') = 99.57 %\n",
      "---------------------------------------------------------------\n"
     ]
    }
   ],
   "source": [
    "compare_models_cross_validation()"
   ]
  },
  {
   "cell_type": "markdown",
   "id": "683af8bb-32a0-4c85-b5f6-168fc72d644b",
   "metadata": {},
   "source": [
    "### As we can see SVM has highest accuracy of 99.57%"
   ]
  },
  {
   "cell_type": "code",
   "execution_count": 35,
   "id": "31f90243-b0f3-4ae4-8dfe-5ea3f44634f8",
   "metadata": {
    "tags": []
   },
   "outputs": [
    {
     "data": {
      "text/html": [
       "<style>#sk-container-id-1 {color: black;background-color: white;}#sk-container-id-1 pre{padding: 0;}#sk-container-id-1 div.sk-toggleable {background-color: white;}#sk-container-id-1 label.sk-toggleable__label {cursor: pointer;display: block;width: 100%;margin-bottom: 0;padding: 0.3em;box-sizing: border-box;text-align: center;}#sk-container-id-1 label.sk-toggleable__label-arrow:before {content: \"▸\";float: left;margin-right: 0.25em;color: #696969;}#sk-container-id-1 label.sk-toggleable__label-arrow:hover:before {color: black;}#sk-container-id-1 div.sk-estimator:hover label.sk-toggleable__label-arrow:before {color: black;}#sk-container-id-1 div.sk-toggleable__content {max-height: 0;max-width: 0;overflow: hidden;text-align: left;background-color: #f0f8ff;}#sk-container-id-1 div.sk-toggleable__content pre {margin: 0.2em;color: black;border-radius: 0.25em;background-color: #f0f8ff;}#sk-container-id-1 input.sk-toggleable__control:checked~div.sk-toggleable__content {max-height: 200px;max-width: 100%;overflow: auto;}#sk-container-id-1 input.sk-toggleable__control:checked~label.sk-toggleable__label-arrow:before {content: \"▾\";}#sk-container-id-1 div.sk-estimator input.sk-toggleable__control:checked~label.sk-toggleable__label {background-color: #d4ebff;}#sk-container-id-1 div.sk-label input.sk-toggleable__control:checked~label.sk-toggleable__label {background-color: #d4ebff;}#sk-container-id-1 input.sk-hidden--visually {border: 0;clip: rect(1px 1px 1px 1px);clip: rect(1px, 1px, 1px, 1px);height: 1px;margin: -1px;overflow: hidden;padding: 0;position: absolute;width: 1px;}#sk-container-id-1 div.sk-estimator {font-family: monospace;background-color: #f0f8ff;border: 1px dotted black;border-radius: 0.25em;box-sizing: border-box;margin-bottom: 0.5em;}#sk-container-id-1 div.sk-estimator:hover {background-color: #d4ebff;}#sk-container-id-1 div.sk-parallel-item::after {content: \"\";width: 100%;border-bottom: 1px solid gray;flex-grow: 1;}#sk-container-id-1 div.sk-label:hover label.sk-toggleable__label {background-color: #d4ebff;}#sk-container-id-1 div.sk-serial::before {content: \"\";position: absolute;border-left: 1px solid gray;box-sizing: border-box;top: 0;bottom: 0;left: 50%;z-index: 0;}#sk-container-id-1 div.sk-serial {display: flex;flex-direction: column;align-items: center;background-color: white;padding-right: 0.2em;padding-left: 0.2em;position: relative;}#sk-container-id-1 div.sk-item {position: relative;z-index: 1;}#sk-container-id-1 div.sk-parallel {display: flex;align-items: stretch;justify-content: center;background-color: white;position: relative;}#sk-container-id-1 div.sk-item::before, #sk-container-id-1 div.sk-parallel-item::before {content: \"\";position: absolute;border-left: 1px solid gray;box-sizing: border-box;top: 0;bottom: 0;left: 50%;z-index: -1;}#sk-container-id-1 div.sk-parallel-item {display: flex;flex-direction: column;z-index: 1;position: relative;background-color: white;}#sk-container-id-1 div.sk-parallel-item:first-child::after {align-self: flex-end;width: 50%;}#sk-container-id-1 div.sk-parallel-item:last-child::after {align-self: flex-start;width: 50%;}#sk-container-id-1 div.sk-parallel-item:only-child::after {width: 0;}#sk-container-id-1 div.sk-dashed-wrapped {border: 1px dashed gray;margin: 0 0.4em 0.5em 0.4em;box-sizing: border-box;padding-bottom: 0.4em;background-color: white;}#sk-container-id-1 div.sk-label label {font-family: monospace;font-weight: bold;display: inline-block;line-height: 1.2em;}#sk-container-id-1 div.sk-label-container {text-align: center;}#sk-container-id-1 div.sk-container {/* jupyter's `normalize.less` sets `[hidden] { display: none; }` but bootstrap.min.css set `[hidden] { display: none !important; }` so we also need the `!important` here to be able to override the default hidden behavior on the sphinx rendered scikit-learn.org. See: https://github.com/scikit-learn/scikit-learn/issues/21755 */display: inline-block !important;position: relative;}#sk-container-id-1 div.sk-text-repr-fallback {display: none;}</style><div id=\"sk-container-id-1\" class=\"sk-top-container\"><div class=\"sk-text-repr-fallback\"><pre>SVC(kernel=&#x27;linear&#x27;)</pre><b>In a Jupyter environment, please rerun this cell to show the HTML representation or trust the notebook. <br />On GitHub, the HTML representation is unable to render, please try loading this page with nbviewer.org.</b></div><div class=\"sk-container\" hidden><div class=\"sk-item\"><div class=\"sk-estimator sk-toggleable\"><input class=\"sk-toggleable__control sk-hidden--visually\" id=\"sk-estimator-id-1\" type=\"checkbox\" checked><label for=\"sk-estimator-id-1\" class=\"sk-toggleable__label sk-toggleable__label-arrow\">SVC</label><div class=\"sk-toggleable__content\"><pre>SVC(kernel=&#x27;linear&#x27;)</pre></div></div></div></div></div>"
      ],
      "text/plain": [
       "SVC(kernel='linear')"
      ]
     },
     "execution_count": 35,
     "metadata": {},
     "output_type": "execute_result"
    }
   ],
   "source": [
    "# Training Model\n",
    "classfier = svm.SVC(kernel='linear')\n",
    "classfier.fit(X_train_feature,y_train)"
   ]
  },
  {
   "cell_type": "code",
   "execution_count": 36,
   "id": "a1a0a0f1-4e91-4f02-881c-1951c42fda55",
   "metadata": {
    "tags": []
   },
   "outputs": [
    {
     "name": "stdout",
     "output_type": "stream",
     "text": [
      "Accuracy score of the trainig data: 1.0 \n",
      "Accuracy score of the testing data: 0.993103448275862 \n"
     ]
    }
   ],
   "source": [
    "from sklearn.metrics import accuracy_score\n",
    "x_train_pred = classfier.predict(X_train_feature)\n",
    "training_data_acc_score = accuracy_score(x_train_pred, y_train)\n",
    "print(f\"Accuracy score of the trainig data: {training_data_acc_score} \")\n",
    "\n",
    "# Acc score for the test set\n",
    "x_test_pred = classfier.predict(X_test_feature)\n",
    "test_data_acc_score = accuracy_score(x_test_pred, y_test)\n",
    "print(f\"Accuracy score of the testing data: {test_data_acc_score} \")"
   ]
  },
  {
   "cell_type": "markdown",
   "id": "27dce0cc-2ee1-48b4-b77a-9a3537f0bab8",
   "metadata": {},
   "source": [
    "### Building Predictive System"
   ]
  },
  {
   "cell_type": "code",
   "execution_count": 37,
   "id": "2d3993d5-c356-477f-883c-941d229f48e1",
   "metadata": {
    "tags": []
   },
   "outputs": [],
   "source": [
    "input_mail = [\"new sequenc window\"]\n",
    "input_mail = [lemmatize_words(remove_stopwords(remove_punctuations(input_mail[0])))]\n",
    "# input_mail"
   ]
  },
  {
   "cell_type": "code",
   "execution_count": 38,
   "id": "5d931ecf-3dcc-49e7-a551-c4c0ac926281",
   "metadata": {
    "tags": []
   },
   "outputs": [],
   "source": [
    "input_data_feature = featureX.transform(input_mail)"
   ]
  },
  {
   "cell_type": "code",
   "execution_count": 39,
   "id": "9534c930-6007-4a6b-a246-59ae43c5c0d6",
   "metadata": {
    "tags": []
   },
   "outputs": [
    {
     "name": "stdout",
     "output_type": "stream",
     "text": [
      "[0]\n"
     ]
    }
   ],
   "source": [
    "#making prediction \n",
    "prediction = classfier.predict(input_data_feature)\n",
    "print(prediction)"
   ]
  },
  {
   "cell_type": "code",
   "execution_count": 40,
   "id": "bd03f1ec-5443-4051-917d-1d789976d615",
   "metadata": {
    "tags": []
   },
   "outputs": [],
   "source": [
    "import pickle"
   ]
  },
  {
   "cell_type": "code",
   "execution_count": 41,
   "id": "6b5eb2c2-21e7-4f72-a733-ffeb93d70d3a",
   "metadata": {
    "tags": []
   },
   "outputs": [],
   "source": [
    "# pipeline = [lemmatize_words(remove_stopwords(remove_punctuations(input_mail[0])))]"
   ]
  },
  {
   "cell_type": "code",
   "execution_count": 42,
   "id": "6d62f3ba-e44d-452c-af2b-30373d6ca57c",
   "metadata": {
    "tags": []
   },
   "outputs": [],
   "source": [
    "pickle.dump(classfier, open(\"spam.pkl\", \"wb\"))\n",
    "# pickle.dump(pipeline,open(\"pipe.pkl\",\"wb\"))\n",
    "pickle.dump(featureX, open(\"feature.pkl\", \"wb\"))"
   ]
  },
  {
   "cell_type": "code",
   "execution_count": 43,
   "id": "a4990317-3fce-4e4a-9f8e-c56cc53a7d98",
   "metadata": {
    "tags": []
   },
   "outputs": [
    {
     "data": {
      "text/html": [
       "<style>#sk-container-id-2 {color: black;background-color: white;}#sk-container-id-2 pre{padding: 0;}#sk-container-id-2 div.sk-toggleable {background-color: white;}#sk-container-id-2 label.sk-toggleable__label {cursor: pointer;display: block;width: 100%;margin-bottom: 0;padding: 0.3em;box-sizing: border-box;text-align: center;}#sk-container-id-2 label.sk-toggleable__label-arrow:before {content: \"▸\";float: left;margin-right: 0.25em;color: #696969;}#sk-container-id-2 label.sk-toggleable__label-arrow:hover:before {color: black;}#sk-container-id-2 div.sk-estimator:hover label.sk-toggleable__label-arrow:before {color: black;}#sk-container-id-2 div.sk-toggleable__content {max-height: 0;max-width: 0;overflow: hidden;text-align: left;background-color: #f0f8ff;}#sk-container-id-2 div.sk-toggleable__content pre {margin: 0.2em;color: black;border-radius: 0.25em;background-color: #f0f8ff;}#sk-container-id-2 input.sk-toggleable__control:checked~div.sk-toggleable__content {max-height: 200px;max-width: 100%;overflow: auto;}#sk-container-id-2 input.sk-toggleable__control:checked~label.sk-toggleable__label-arrow:before {content: \"▾\";}#sk-container-id-2 div.sk-estimator input.sk-toggleable__control:checked~label.sk-toggleable__label {background-color: #d4ebff;}#sk-container-id-2 div.sk-label input.sk-toggleable__control:checked~label.sk-toggleable__label {background-color: #d4ebff;}#sk-container-id-2 input.sk-hidden--visually {border: 0;clip: rect(1px 1px 1px 1px);clip: rect(1px, 1px, 1px, 1px);height: 1px;margin: -1px;overflow: hidden;padding: 0;position: absolute;width: 1px;}#sk-container-id-2 div.sk-estimator {font-family: monospace;background-color: #f0f8ff;border: 1px dotted black;border-radius: 0.25em;box-sizing: border-box;margin-bottom: 0.5em;}#sk-container-id-2 div.sk-estimator:hover {background-color: #d4ebff;}#sk-container-id-2 div.sk-parallel-item::after {content: \"\";width: 100%;border-bottom: 1px solid gray;flex-grow: 1;}#sk-container-id-2 div.sk-label:hover label.sk-toggleable__label {background-color: #d4ebff;}#sk-container-id-2 div.sk-serial::before {content: \"\";position: absolute;border-left: 1px solid gray;box-sizing: border-box;top: 0;bottom: 0;left: 50%;z-index: 0;}#sk-container-id-2 div.sk-serial {display: flex;flex-direction: column;align-items: center;background-color: white;padding-right: 0.2em;padding-left: 0.2em;position: relative;}#sk-container-id-2 div.sk-item {position: relative;z-index: 1;}#sk-container-id-2 div.sk-parallel {display: flex;align-items: stretch;justify-content: center;background-color: white;position: relative;}#sk-container-id-2 div.sk-item::before, #sk-container-id-2 div.sk-parallel-item::before {content: \"\";position: absolute;border-left: 1px solid gray;box-sizing: border-box;top: 0;bottom: 0;left: 50%;z-index: -1;}#sk-container-id-2 div.sk-parallel-item {display: flex;flex-direction: column;z-index: 1;position: relative;background-color: white;}#sk-container-id-2 div.sk-parallel-item:first-child::after {align-self: flex-end;width: 50%;}#sk-container-id-2 div.sk-parallel-item:last-child::after {align-self: flex-start;width: 50%;}#sk-container-id-2 div.sk-parallel-item:only-child::after {width: 0;}#sk-container-id-2 div.sk-dashed-wrapped {border: 1px dashed gray;margin: 0 0.4em 0.5em 0.4em;box-sizing: border-box;padding-bottom: 0.4em;background-color: white;}#sk-container-id-2 div.sk-label label {font-family: monospace;font-weight: bold;display: inline-block;line-height: 1.2em;}#sk-container-id-2 div.sk-label-container {text-align: center;}#sk-container-id-2 div.sk-container {/* jupyter's `normalize.less` sets `[hidden] { display: none; }` but bootstrap.min.css set `[hidden] { display: none !important; }` so we also need the `!important` here to be able to override the default hidden behavior on the sphinx rendered scikit-learn.org. See: https://github.com/scikit-learn/scikit-learn/issues/21755 */display: inline-block !important;position: relative;}#sk-container-id-2 div.sk-text-repr-fallback {display: none;}</style><div id=\"sk-container-id-2\" class=\"sk-top-container\"><div class=\"sk-text-repr-fallback\"><pre>SVC(kernel=&#x27;linear&#x27;)</pre><b>In a Jupyter environment, please rerun this cell to show the HTML representation or trust the notebook. <br />On GitHub, the HTML representation is unable to render, please try loading this page with nbviewer.org.</b></div><div class=\"sk-container\" hidden><div class=\"sk-item\"><div class=\"sk-estimator sk-toggleable\"><input class=\"sk-toggleable__control sk-hidden--visually\" id=\"sk-estimator-id-2\" type=\"checkbox\" checked><label for=\"sk-estimator-id-2\" class=\"sk-toggleable__label sk-toggleable__label-arrow\">SVC</label><div class=\"sk-toggleable__content\"><pre>SVC(kernel=&#x27;linear&#x27;)</pre></div></div></div></div></div>"
      ],
      "text/plain": [
       "SVC(kernel='linear')"
      ]
     },
     "execution_count": 43,
     "metadata": {},
     "output_type": "execute_result"
    }
   ],
   "source": [
    "clf = pickle.load(open(\"spam.pkl\", \"rb\"))\n",
    "clf"
   ]
  },
  {
   "cell_type": "code",
   "execution_count": 44,
   "id": "1f578be9-df4d-4c51-b6a2-569f6b2dc5ca",
   "metadata": {
    "tags": []
   },
   "outputs": [
    {
     "name": "stdout",
     "output_type": "stream",
     "text": [
      "[1]\n"
     ]
    }
   ],
   "source": [
    "input_mail  = \" You won 10k dollar\"\n",
    "clean = [lemmatize_words(remove_stopwords(remove_punctuations(input_mail[0])))]\n",
    "\n",
    "feat = featureX.transform(clean)\n",
    "result = classfier.predict(feat)\n",
    "print(result)\n",
    "\n"
   ]
  },
  {
   "cell_type": "code",
   "execution_count": null,
   "id": "ec43de5f-8b82-48ad-af90-60b6189edb20",
   "metadata": {},
   "outputs": [],
   "source": []
  },
  {
   "cell_type": "code",
   "execution_count": 45,
   "id": "693e011d-6d30-4c08-9696-73fef7c6b689",
   "metadata": {},
   "outputs": [
    {
     "data": {
      "text/plain": [
       "0    3900\n",
       "1    1896\n",
       "Name: label, dtype: int64"
      ]
     },
     "execution_count": 45,
     "metadata": {},
     "output_type": "execute_result"
    }
   ],
   "source": [
    "df.label.value_counts()"
   ]
  },
  {
   "cell_type": "code",
   "execution_count": null,
   "id": "206189e7-009b-4a90-b8e5-68adaa0f7d67",
   "metadata": {},
   "outputs": [],
   "source": []
  }
 ],
 "metadata": {
  "kernelspec": {
   "display_name": "Python 3 (ipykernel)",
   "language": "python",
   "name": "python3"
  },
  "language_info": {
   "codemirror_mode": {
    "name": "ipython",
    "version": 3
   },
   "file_extension": ".py",
   "mimetype": "text/x-python",
   "name": "python",
   "nbconvert_exporter": "python",
   "pygments_lexer": "ipython3",
   "version": "3.11.1"
  }
 },
 "nbformat": 4,
 "nbformat_minor": 5
}
